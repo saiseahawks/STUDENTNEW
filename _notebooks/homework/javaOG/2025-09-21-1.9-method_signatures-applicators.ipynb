{
 "cells": [
  {
   "cell_type": "markdown",
   "id": "a997f6cb",
   "metadata": {},
   "source": [
    "---\n",
    "layout: post\n",
    "toc: true\n",
    "title: Method Signatures\n",
    "menu: nav/CSA_Nunits/csaunit1.html\n",
    "permalink: /csa/unit_01/1_9\n",
    "author: Aashray, Sai, Manas\n",
    "---"
   ]
  },
  {
   "cell_type": "markdown",
   "id": "32b3a894",
   "metadata": {},
   "source": [
    "## AP CSA 1.9 — Method Signatures (2025)\n",
    "\n",
    "### Introduction\n",
    "In Java, a method’s signature determines which method is called. Understanding what is and is not part of a signature is essential for reading APIs and writing overloaded methods.\n"
   ]
  },
  {
   "cell_type": "markdown",
   "id": "43eb315d",
   "metadata": {},
   "source": [
    "### Learning goals\n",
    "- Identify what constitutes a Java method signature (per AP): method name + parameter types and order.\n",
    "- Distinguish parameters vs arguments; return type is NOT part of the signature.\n",
    "- Explain method overloading and how Java selects an overload.\n",
    "- Write valid method headers and call them correctly.\n",
    "- Trace evaluation for calls with literals, variables, and expressions.\n"
   ]
  },
  {
   "cell_type": "markdown",
   "id": "2c01ae18",
   "metadata": {},
   "source": [
    "### Quick reference\n",
    "- Signature (AP scope): `methodName(type1, type2, ...)` — only name + parameter types/order.\n",
    "- Not in signature: return type, parameter names, access modifiers.\n",
    "- Overloading: same name, different parameter lists (type and/or arity and/or order).\n",
    "- Calls: arguments must be compatible with the parameter types (with standard promotions/widening allowed).\n",
    "- Return: a method declared `void` returns nothing; non-void must `return` a value of its declared type.\n",
    "- Widening at call site: `int` → `double` allowed; narrowing requires explicit cast.\n"
   ]
  },
  {
   "cell_type": "markdown",
   "id": "fa08aee7",
   "metadata": {},
   "source": [
    "### Example: runnable Java class (overloading)\n",
    "```java\n",
    "public class SigDemo {\n",
    "    public static int add(int a, int b) {          // signature: add(int, int)\n",
    "        return a + b;\n",
    "    }\n",
    "    public static double add(double a, double b) { // signature: add(double, double)\n",
    "        return a + b;\n",
    "    }\n",
    "    public static int add(int a) {                 // signature: add(int)\n",
    "        return a + 1;\n",
    "    }\n",
    "    public static int increment(int a) {           // different name\n",
    "        return a + 1;\n",
    "    }\n",
    "    public static void main(String[] args) {\n",
    "        System.out.println(add(3, 4));     // 7\n",
    "        System.out.println(add(3.0, 4));   // 7.0\n",
    "        System.out.println(add(5));        // 6\n",
    "        System.out.println(increment(9));  // 10\n",
    "    }\n",
    "}\n",
    "```\n"
   ]
  },
  {
   "cell_type": "markdown",
   "id": "e58a5501",
   "metadata": {},
   "source": [
    "### What is and isn’t in a signature\n",
    "- In AP CSA scope, signature = name + parameter types and order: `name(T1, T2, ...)`.\n",
    "- NOT in signature: return type, parameter names, access modifiers, `throws` clauses.\n",
    "- Therefore, you cannot overload by changing only the return type.\n"
   ]
  },
  {
   "cell_type": "markdown",
   "id": "eb2d8940",
   "metadata": {},
   "source": [
    "### Not overloading by return type (concept)\n",
    "- Changing only the return type does not create a new signature.\n",
    "- If two methods differ only by return type and are otherwise identical, it’s a compile-time error.\n",
    "- Tip: Change parameter types/arity/order to overload correctly.\n"
   ]
  },
  {
   "cell_type": "markdown",
   "id": "601d489d",
   "metadata": {},
   "source": [
    "### Runnable example: Overload resolution with literals and variables\n",
    "```java\n",
    "public class OverloadPick {\n",
    "    static void show(int x)    { System.out.println(\"int:\" + x); }\n",
    "    static void show(double x) { System.out.println(\"double:\" + x); }\n",
    "    static void show(long x)   { System.out.println(\"long:\" + x); }\n",
    "\n",
    "    public static void main(String[] args) {\n",
    "        show(5);     // int literal → show(int)\n",
    "        show(5L);    // long literal → show(long)\n",
    "        show(5.0);   // double literal → show(double)\n",
    "        int i = 7; long L = 7L; double d = 7.0;\n",
    "        show(i); show(L); show(d);\n",
    "    }\n",
    "}\n",
    "```\n",
    "\n"
   ]
  },
  {
   "cell_type": "markdown",
   "id": "c6c5dbf0",
   "metadata": {},
   "source": [
    "### Ambiguity and overload selection (concept)\n",
    "- Java prefers the most specific applicable method without narrowing.\n",
    "- `int` literal can widen to `long` or convert to `float`; integral widening to `long` is typically chosen.\n",
    "- Avoid ambiguous designs: provide distinct parameter lists or cast at the call site to disambiguate.\n"
   ]
  },
  {
   "cell_type": "markdown",
   "id": "33618b60",
   "metadata": {},
   "source": [
    "### Popcorn Hack: Write and test max overloads\n",
    "Instructions: Write two overloaded methods named max that each return the larger of two numbers.\n",
    "\n",
    "One should accept two int values.\n",
    "\n",
    "The other should accept two double values.\n",
    "\n",
    "Then, test both versions in the main method.\n",
    "\n",
    "```java\n",
    "public class PopcornMax {\n",
    "    // TODO: write int version of max\n",
    "    // TODO: write double version of max\n",
    "\n",
    "    public static void main(String[] args) {\n",
    "        System.out.println(max(3, 9));      // expected: 9\n",
    "        System.out.println(max(-2, -7));    // expected: -2\n",
    "        System.out.println(max(3.5, 2.9));  // expected: 3.5\n",
    "        System.out.println(max(2, 2.0));    // should call double version → 2.0\n",
    "    }\n",
    "}\n",
    "\n",
    "```\n"
   ]
  },
  {
   "cell_type": "markdown",
   "id": "ee7ff3d4",
   "metadata": {},
   "source": [
    "### Popcorn Hack 1 Answer:\n",
    "\n",
    "```java\n",
    "public class PopcornMax {\n",
    "    // int overload\n",
    "    public static int max(int a, int b) {\n",
    "        return a >= b ? a : b;\n",
    "    }\n",
    "\n",
    "    // double overload\n",
    "    public static double max(double a, double b) {\n",
    "        return a >= b ? a : b;\n",
    "    }\n",
    "\n",
    "    public static void main(String[] args) {\n",
    "        System.out.println(max(3, 9));      // 9\n",
    "        System.out.println(max(-2, -7));    // -2\n",
    "        System.out.println(max(3.5, 2.9));  // 3.5\n",
    "        System.out.println(max(2, 2.0));    // 2.0  (int 2 promoted to double → calls max(double,double))\n",
    "    }\n",
    "}\n",
    "```"
   ]
  },
  {
   "cell_type": "markdown",
   "id": "d4c50792",
   "metadata": {},
   "source": [
    "### Popcorn Hack: Overload print for int and String\n",
    "Instructions:Implement two overloaded print methods — one that accepts an int and prints int:<n> and another that accepts String and prints str:<s>. Test with mixed types.\n",
    "```java\n",
    "public class PopcornPrint {\n",
    "    // TODO: write print(int n)\n",
    "    // TODO: write print(String s)\n",
    "\n",
    "    public static void main(String[] args) {\n",
    "        print(42);          // expected: int:42\n",
    "        print(\"hello\");     // expected: str:hello\n",
    "        print('A' + \"!\");   // char + String → String → expected: str:A!\n",
    "    }\n",
    "}\n",
    "\n",
    "```\n"
   ]
  },
  {
   "cell_type": "markdown",
   "id": "06f80cba",
   "metadata": {},
   "source": [
    "### Popcorn Hack 2 Answer:\n",
    "```java\n",
    "public class PopcornPrint {\n",
    "    static void print(int n) {\n",
    "        System.out.println(\"int:\" + n);\n",
    "    }\n",
    "\n",
    "    static void print(String s) {\n",
    "        System.out.println(\"str:\" + s);\n",
    "    }\n",
    "\n",
    "    public static void main(String[] args) {\n",
    "        print(42);          // int:42\n",
    "        print(\"hello\");     // str:hello\n",
    "        print('A' + \"!\");   // str:A!\n",
    "    }\n",
    "}\n",
    "```"
   ]
  },
  {
   "cell_type": "markdown",
   "id": "8475fa9f",
   "metadata": {},
   "source": [
    "### Parameter passing (concept)\n",
    "- Primitives are passed by value. Changing the parameter does not change the argument in the caller.\n",
    "- E.g., calling `bump(a)` does not modify `a` outside the method."
   ]
  },
  {
   "cell_type": "markdown",
   "id": "db66fefa",
   "metadata": {},
   "source": [
    "### FRQ-style runnable templates\n",
    "Instructions:Practice FRQ-style overloaded methods. Implement sumRange, overloaded area (circle and rectangle), and overloaded formatScore (fraction and percent).\n",
    "```java\n",
    "public class FrqTemplates {\n",
    "    // FRQ 1\n",
    "    // TODO: implement sumRange(start, end) — sum inclusive, return 0 if start > end\n",
    "    public static int sumRange(int start, int end) {\n",
    "        return 0; // placeholder\n",
    "    }\n",
    "\n",
    "    // FRQ 2\n",
    "    // TODO: implement area(radius) -> circle area (double)\n",
    "    // TODO: implement area(width, height) -> rectangle area (int)\n",
    "    public static double area(double radius) {\n",
    "        return 0.0; // placeholder\n",
    "    }\n",
    "    public static int area(int width, int height) {\n",
    "        return 0; // placeholder\n",
    "    }\n",
    "\n",
    "    // FRQ 3\n",
    "    // TODO: implement formatScore(earned, total) -> \"earned/total\"\n",
    "    // TODO: implement formatScore(percent) -> \"xx.x%\"\n",
    "    public static String formatScore(int earned, int total) {\n",
    "        return \"\"; // placeholder\n",
    "    }\n",
    "    public static String formatScore(double percent) {\n",
    "        return \"\"; // placeholder\n",
    "    }\n",
    "\n",
    "    public static void main(String[] args) {\n",
    "        System.out.println(sumRange(1, 5));      // expected: 15\n",
    "        System.out.println(area(3.0));           // expected: ~28.27\n",
    "        System.out.println(area(3, 4));          // expected: 12\n",
    "        System.out.println(formatScore(45, 50)); // expected: 45/50\n",
    "        System.out.println(formatScore(92.35));  // expected: 92.4%\n",
    "    }\n",
    "}\n",
    "\n",
    "```\n"
   ]
  },
  {
   "cell_type": "markdown",
   "id": "01c77534",
   "metadata": {},
   "source": [
    "### FRQ Answer Key:\n",
    "```java\n",
    "public class FrqTemplates {\n",
    "    // FRQ 1: Sum all integers from start to end (inclusive)\n",
    "    public static int sumRange(int start, int end) {\n",
    "        if (start > end) return 0;\n",
    "        int sum = 0;\n",
    "        for (int n = start; n <= end; n++) {\n",
    "            sum += n;\n",
    "        }\n",
    "        return sum;\n",
    "    }\n",
    "\n",
    "    // FRQ 2: Overload area for circle vs. rectangle\n",
    "    public static double area(double radius) {\n",
    "        return Math.PI * radius * radius;\n",
    "    }\n",
    "    public static int area(int width, int height) {\n",
    "        return width * height;\n",
    "    }\n",
    "\n",
    "    // FRQ 3: Overload formatScore for fraction vs. percent\n",
    "    public static String formatScore(int earned, int total) {\n",
    "        return earned + \"/\" + total;\n",
    "    }\n",
    "    public static String formatScore(double percent) {\n",
    "        return String.format(\"%.1f%%\", percent);\n",
    "    }\n",
    "\n",
    "    public static void main(String[] args) {\n",
    "        System.out.println(sumRange(1, 5));      // 15\n",
    "        System.out.println(area(3.0));           // ~28.274333882308138\n",
    "        System.out.println(area(3, 4));          // 12\n",
    "        System.out.println(formatScore(45, 50)); // 45/50\n",
    "        System.out.println(formatScore(92.35));  // 92.4%\n",
    "    }\n",
    "}\n",
    "```"
   ]
  },
  {
   "cell_type": "markdown",
   "id": "8128e0e2",
   "metadata": {},
   "source": [
    "### Anatomy of a method header (AP scope)\n",
    "- General form: `modifiers returnType name(parameterList)`\n",
    "- Signature considered in AP: `name(parameterTypesInOrder)`\n",
    "- Examples:\n",
    "  - `public static int sum(int a, int b)` → signature `sum(int,int)`\n",
    "  - `private double area(double r)` → signature `area(double)`\n",
    "\n",
    "### Overloading checklist\n",
    "- Different parameter count and/or parameter types and/or order\n",
    "- Same method name\n",
    "- Return type alone does not differentiate\n",
    "\n",
    "### Common pitfalls\n",
    "- Ambiguity between numeric types (`int`, `long`, `float`, `double`)\n",
    "- Unintended autowidening creates a different overload call than expected\n",
    "- Shadowing due to parameter names does not matter to signature\n",
    "\n",
    "### Best practices\n",
    "- Keep overloads consistent in behavior and naming\n",
    "- Prefer clear, non-ambiguous parameter lists\n",
    "- Add documentation examples showing which overload is picked\n",
    "\n"
   ]
  }
 ],
 "metadata": {
  "language_info": {
   "name": "python"
  }
 },
 "nbformat": 4,
 "nbformat_minor": 5
}
