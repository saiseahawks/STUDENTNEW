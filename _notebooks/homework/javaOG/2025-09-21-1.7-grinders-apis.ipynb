{
 "cells": [
  {
   "cell_type": "markdown",
   "metadata": {},
   "source": [
    "---\n",
    "title: Application Program Interface (API) and Libraries\n",
    "description: Understanding Application Program Interfaces and Java Libraries\n",
    "layout: post\n",
    "type: hacks\n",
    "menu: nav/CSA_Nunits/csaunit1.html\n",
    "toc: true\n",
    "permalink: /csa/unit_01/1_7\n",
    "---"
   ]
  },
  {
   "cell_type": "markdown",
   "metadata": {},
   "source": [
    "# Topic 1.7: Application Program Interface (API) and Libraries\n",
    "\n",
    "<a href=\"{{ site.baseurl }}/csa/unit_01/1_7/homework\">Link to Homework</a>\n",
    "\n",
    "## College Board Requirements\n",
    "\n",
    "### Essential Knowledge 1.7.A.1\n",
    "- **Libraries** = collections of classes\n",
    "- **API** = tells you how to use classes  \n",
    "- **Packages** = organize classes\n",
    "- **Documentation** = explains attributes and behaviors\n",
    "\n",
    "### Essential Knowledge 1.7.A.2\n",
    "- **Attributes** = data (variables)\n",
    "- **Behaviors** = actions (methods)\n",
    "\n",
    "---\n",
    "\n",
    "## 1. Libraries = Collections of Classes\n",
    "\n",
    "A **library** is a collection of pre-written classes that you can use in your programs.\n",
    "\n",
    "Think of it like a toolbox:\n",
    "- Instead of building every tool from scratch, you use tools that already exist\n",
    "- Java provides many libraries with useful classes\n",
    "- You can create objects from these classes to solve problems\n",
    "\n",
    "**Example:** Java's standard library includes:\n",
    "- `String` class - for working with text\n",
    "- `ArrayList` class - for storing lists of items\n",
    "- `Math` class - for mathematical operations\n",
    "- `Random` class - for generating random numbers"
   ]
  },
  {
   "cell_type": "code",
   "execution_count": null,
   "metadata": {},
   "outputs": [
    {
     "name": "stdout",
     "output_type": "stream",
     "text": [
      "Hello, CSA!\n",
      "Square root of 16: 4.0\n"
     ]
    }
   ],
   "source": [
    "// Using classes from Java's library\n",
    "\n",
    "public class LibraryDemo {\n",
    "    public static void main(String[] args) {\n",
    "        // Using String class from library\n",
    "        String message = \"Hello, CSA!\";\n",
    "        \n",
    "        // Using Math class from library  \n",
    "        double result = Math.sqrt(16);\n",
    "        \n",
    "        System.out.println(message);\n",
    "        System.out.println(\"Square root of 16: \" + result);\n",
    "    }\n",
    "}\n",
    "\n",
    "LibraryDemo.main(null);"
   ]
  },
  {
   "cell_type": "markdown",
   "metadata": {},
   "source": [
    "---\n",
    "\n",
    "## 2. API = Tells You How to Use Classes\n",
    "\n",
    "An **API (Application Programming Interface)** is like an instruction manual.\n",
    "\n",
    "**Restaurant Analogy:**\n",
    "- Menu (API) shows what dishes are available\n",
    "- Menu describes each dish\n",
    "- You order from the menu without knowing how to cook\n",
    "\n",
    "**In Java:**\n",
    "- API documentation shows what classes are available\n",
    "- API describes methods you can call\n",
    "- You use classes without knowing how they work internally\n",
    "\n",
    "**Example: String API tells us:**\n",
    "- `length()` - returns number of characters\n",
    "- `toUpperCase()` - converts to uppercase\n",
    "- `substring(start, end)` - extracts part of string"
   ]
  },
  {
   "cell_type": "code",
   "execution_count": null,
   "metadata": {},
   "outputs": [
    {
     "name": "stdout",
     "output_type": "stream",
     "text": [
      "Original: Computer Science\n",
      "Length: 16\n",
      "Uppercase: COMPUTER SCIENCE\n",
      "First 8 chars: Computer\n"
     ]
    }
   ],
   "source": [
    "// Using methods from String API\n",
    "\n",
    "public class APIDemo {\n",
    "    public static void main(String[] args) {\n",
    "        String text = \"Computer Science\";\n",
    "        \n",
    "        // Methods from String API\n",
    "        System.out.println(\"Original: \" + text);\n",
    "        System.out.println(\"Length: \" + text.length());\n",
    "        System.out.println(\"Uppercase: \" + text.toUpperCase());\n",
    "        System.out.println(\"First 8 chars: \" + text.substring(0, 8));\n",
    "    }\n",
    "}\n",
    "\n",
    "APIDemo.main(null);"
   ]
  },
  {
   "cell_type": "markdown",
   "metadata": {},
   "source": [
    "---\n",
    "\n",
    "## 3. Packages = Organize Classes\n",
    "\n",
    "**Packages** organize classes into groups (like folders organize files).\n",
    "\n",
    "### Common Java Packages:\n",
    "\n",
    "| Package | Description | Example Classes |\n",
    "|---------|-------------|------------------|\n",
    "| `java.lang` | Fundamental classes | String, Math, Integer |\n",
    "| `java.util` | Utility classes | ArrayList, Scanner, Random |\n",
    "| `java.io` | Input/Output | File, FileReader |\n",
    "\n",
    "### Important Rule:\n",
    "- `java.lang` classes **don't need** import statements\n",
    "- All other packages **need** import statements"
   ]
  },
  {
   "cell_type": "code",
   "execution_count": null,
   "metadata": {},
   "outputs": [
    {
     "name": "stdout",
     "output_type": "stream",
     "text": [
      "String: Java\n",
      "Absolute value: 5\n",
      "ArrayList: [Item 1]\n"
     ]
    }
   ],
   "source": [
    "// Demonstrating packages\n",
    "\n",
    "import java.util.ArrayList;  // Need import for java.util\n",
    "\n",
    "public class PackageDemo {\n",
    "    public static void main(String[] args) {\n",
    "        // java.lang - no import needed\n",
    "        String name = \"Java\";\n",
    "        int num = Math.abs(-5);\n",
    "        \n",
    "        // java.util - import needed\n",
    "        ArrayList<String> list = new ArrayList<>();\n",
    "        list.add(\"Item 1\");\n",
    "        \n",
    "        System.out.println(\"String: \" + name);\n",
    "        System.out.println(\"Absolute value: \" + num);\n",
    "        System.out.println(\"ArrayList: \" + list);\n",
    "    }\n",
    "}\n",
    "\n",
    "PackageDemo.main(null);"
   ]
  },
  {
   "cell_type": "markdown",
   "metadata": {},
   "source": [
    "---\n",
    "\n",
    "## 4. Documentation = Explains Attributes and Behaviors\n",
    "\n",
    "**API Documentation** is essential for understanding classes.\n",
    "\n",
    "### What Documentation Shows:\n",
    "1. **Constructors** - How to create objects\n",
    "2. **Methods** - What the class can do\n",
    "3. **Parameters** - What information methods need\n",
    "4. **Return types** - What methods give back\n",
    "\n",
    "### Example: ArrayList Documentation\n",
    "\n",
    "**Common constructors:**\n",
    "- `ArrayList()` - creates empty list\n",
    "\n",
    "**Common methods:**\n",
    "- `add(element)` - adds to end\n",
    "- `get(index)` - returns element at position\n",
    "- `size()` - returns number of elements\n",
    "- `remove(index)` - removes element"
   ]
  },
  {
   "cell_type": "code",
   "execution_count": null,
   "metadata": {},
   "outputs": [
    {
     "name": "stdout",
     "output_type": "stream",
     "text": [
      "Scores: [95, 87, 92]\n",
      "First score: 95\n",
      "Total scores: 3\n"
     ]
    }
   ],
   "source": [
    "// Using ArrayList based on documentation\n",
    "\n",
    "import java.util.ArrayList;\n",
    "\n",
    "public class DocumentationDemo {\n",
    "    public static void main(String[] args) {\n",
    "        // Constructor from documentation\n",
    "        ArrayList<Integer> scores = new ArrayList<>();\n",
    "        \n",
    "        // Methods from documentation\n",
    "        scores.add(95);      // add(element)\n",
    "        scores.add(87);\n",
    "        scores.add(92);\n",
    "        \n",
    "        System.out.println(\"Scores: \" + scores);\n",
    "        System.out.println(\"First score: \" + scores.get(0));  // get(index)\n",
    "        System.out.println(\"Total scores: \" + scores.size()); // size()\n",
    "    }\n",
    "}\n",
    "\n",
    "DocumentationDemo.main(null);"
   ]
  },
  {
   "cell_type": "markdown",
   "metadata": {},
   "source": [
    "---\n",
    "\n",
    "## 🍿 Popcorn Hack #1: Using Documentation (5 minutes)\n",
    "\n",
    "**Task:** Use the Math class and ArrayList class based on their documentation.\n",
    "\n",
    "Complete the following:\n",
    "1. Use `Math.pow()` to calculate 3^4\n",
    "2. Use `Math.sqrt()` to find square root of 64\n",
    "3. Create an ArrayList of Strings\n",
    "4. Add 3 colors to the ArrayList\n",
    "5. Print the ArrayList size"
   ]
  },
  {
   "cell_type": "code",
   "execution_count": null,
   "metadata": {},
   "outputs": [
    {
     "ename": "",
     "evalue": "",
     "output_type": "error",
     "traceback": [
      "\u001b[1;31mThe kernel failed to start due to the missing module 'zmq'. Consider installing this module.\n",
      "\u001b[1;31mClick <a href='https://aka.ms/kernelFailuresMissingModule'>here</a> for more info."
     ]
    }
   ],
   "source": [
    "import java.util.ArrayList;\n",
    "\n",
    "public class PopcornHack1 {\n",
    "    public static void main(String[] args) {\n",
    "        // Use Math.pow() to calculate 3^4\n",
    "        double powerResult = Math.pow(3, 4);\n",
    "        System.out.println(\"3^4 = \" + powerResult);\n",
    "\n",
    "        // Use Math.sqrt() to find square root of 64\n",
    "        double sqrtResult = Math.sqrt(64);\n",
    "        System.out.println(\"Square root of 64 = \" + sqrtResult);\n",
    "\n",
    "        // Create ArrayList of Strings\n",
    "        ArrayList<String> colors = new ArrayList<String>();\n",
    "\n",
    "        // Add 3 colors (\"red\", \"blue\", \"green\")\n",
    "        colors.add(\"red\");\n",
    "        colors.add(\"blue\");\n",
    "        colors.add(\"green\");\n",
    "\n",
    "        // Print the size\n",
    "        System.out.println(\"ArrayList size = \" + colors.size());\n",
    "    }\n",
    "}\n",
    "\n",
    "PopcornHack1.main(null);\n"
   ]
  },
  {
   "cell_type": "markdown",
   "metadata": {},
   "source": [
    "---\n",
    "\n",
    "## 5. Attributes = Data (Variables)\n",
    "\n",
    "**Attributes** are what an object **HAS** (its data/state).\n",
    "\n",
    "### Key Points:\n",
    "- Attributes are variables inside a class\n",
    "- They store data about the object\n",
    "- Usually declared as `private`\n",
    "\n",
    "### Example: Student Class\n",
    "A Student has:\n",
    "- `name` (String)\n",
    "- `grade` (int)\n",
    "- `gpa` (double)"
   ]
  },
  {
   "cell_type": "code",
   "execution_count": null,
   "metadata": {},
   "outputs": [
    {
     "name": "stdout",
     "output_type": "stream",
     "text": [
      "Name: Alice\n",
      "Grade: 11\n",
      "GPA: 3.8\n"
     ]
    }
   ],
   "source": [
    "// Demonstrating Attributes\n",
    "\n",
    "public class Student {\n",
    "    // ATTRIBUTES - what the student HAS\n",
    "    private String name;\n",
    "    private int grade;\n",
    "    private double gpa;\n",
    "    \n",
    "    // Constructor to set attributes\n",
    "    public Student(String name, int grade, double gpa) {\n",
    "        this.name = name;\n",
    "        this.grade = grade;\n",
    "        this.gpa = gpa;\n",
    "    }\n",
    "    \n",
    "    // Method to display attributes\n",
    "    public void showInfo() {\n",
    "        System.out.println(\"Name: \" + name);\n",
    "        System.out.println(\"Grade: \" + grade);\n",
    "        System.out.println(\"GPA: \" + gpa);\n",
    "    }\n",
    "}\n",
    "\n",
    "// Create a student object\n",
    "Student alice = new Student(\"Alice\", 11, 3.8);\n",
    "alice.showInfo();"
   ]
  },
  {
   "cell_type": "markdown",
   "metadata": {},
   "source": [
    "---\n",
    "\n",
    "## 6. Behaviors = Actions (Methods)\n",
    "\n",
    "**Behaviors** are what an object **DOES** (its actions).\n",
    "\n",
    "### Key Points:\n",
    "- Behaviors are methods inside a class\n",
    "- They perform actions or calculations\n",
    "- They can modify attributes or return values\n",
    "\n",
    "### Example: Student Class Behaviors\n",
    "A Student can:\n",
    "- `displayInfo()` - show student data\n",
    "- `updateGPA()` - change GPA\n",
    "- `promoteGrade()` - move to next grade\n",
    "- `isHonorRoll()` - check if GPA >= 3.5\n",
    "\n",
    "### Attributes vs. Behaviors Summary:\n",
    "\n",
    "| Concept | Definition | Example |\n",
    "|---------|------------|----------|\n",
    "| **Attributes** | What object HAS | name, grade, gpa |\n",
    "| **Behaviors** | What object DOES | displayInfo(), updateGPA() |"
   ]
  },
  {
   "cell_type": "code",
   "execution_count": null,
   "metadata": {},
   "outputs": [
    {
     "name": "stdout",
     "output_type": "stream",
     "text": [
      "Bob - Grade 10 - GPA: 3.6\n",
      "Bob's GPA updated to 3.8\n",
      "Bob promoted to grade 11\n",
      "Honor roll: true\n"
     ]
    }
   ],
   "source": [
    "// Demonstrating Behaviors\n",
    "\n",
    "public class Student {\n",
    "    // Attributes\n",
    "    private String name;\n",
    "    private int grade;\n",
    "    private double gpa;\n",
    "    \n",
    "    public Student(String name, int grade, double gpa) {\n",
    "        this.name = name;\n",
    "        this.grade = grade;\n",
    "        this.gpa = gpa;\n",
    "    }\n",
    "    \n",
    "    // BEHAVIORS - what the student DOES\n",
    "    \n",
    "    public void displayInfo() {\n",
    "        System.out.println(name + \" - Grade \" + grade + \" - GPA: \" + gpa);\n",
    "    }\n",
    "    \n",
    "    public void updateGPA(double newGPA) {\n",
    "        this.gpa = newGPA;\n",
    "        System.out.println(name + \"'s GPA updated to \" + gpa);\n",
    "    }\n",
    "    \n",
    "    public void promoteGrade() {\n",
    "        grade++;\n",
    "        System.out.println(name + \" promoted to grade \" + grade);\n",
    "    }\n",
    "    \n",
    "    public boolean isHonorRoll() {\n",
    "        return gpa >= 3.5;\n",
    "    }\n",
    "}\n",
    "\n",
    "// Testing behaviors\n",
    "Student bob = new Student(\"Bob\", 10, 3.6);\n",
    "bob.displayInfo();\n",
    "bob.updateGPA(3.8);\n",
    "bob.promoteGrade();\n",
    "System.out.println(\"Honor roll: \" + bob.isHonorRoll());"
   ]
  },
  {
   "cell_type": "markdown",
   "metadata": {},
   "source": [
    "---\n",
    "\n",
    "## 🍿 Popcorn Hack #2: Attributes and Behaviors (5 minutes)\n",
    "\n",
    "**Task:** Create a `Book` class with attributes and behaviors.\n",
    "\n",
    "**Requirements:**\n",
    "\n",
    "**Attributes (3):**\n",
    "- `title` (String)\n",
    "- `author` (String)  \n",
    "- `pages` (int)\n",
    "\n",
    "**Behaviors (3 methods):**\n",
    "1. Constructor to set all attributes\n",
    "2. `displayInfo()` - print all book info\n",
    "3. `isLong()` - return true if pages > 300\n",
    "\n",
    "**Test:** Create a Book object and call all methods."
   ]
  },
  {
   "cell_type": "code",
   "execution_count": null,
   "metadata": {},
   "outputs": [],
   "source": [
    "// Popcorn Hack #2: Complete the Book class\n",
    "\n",
    "public class Book {\n",
    "    // TODO: Add 3 attributes (title, author, pages)\n",
    "    \n",
    "    // TODO: Add constructor\n",
    "    \n",
    "    // TODO: Add displayInfo() method\n",
    "    \n",
    "    // TODO: Add isLong() method (returns true if pages > 300)\n",
    "    \n",
    "}\n",
    "\n",
    "// TODO: Create a Book object and test all methods\n",
    "// Example: Book myBook = new Book(\"Java Basics\", \"John Doe\", 350);\n"
   ]
  },
  {
   "cell_type": "markdown",
   "metadata": {},
   "source": [
    "---\n",
    "\n",
    "## Summary: College Board Essentials\n",
    "\n",
    "### 1.7.A.1 - Libraries and APIs\n",
    "✅ **Libraries** = collections of classes you can use  \n",
    "✅ **API** = tells you how to use those classes  \n",
    "✅ **Packages** = organize classes into groups  \n",
    "✅ **Documentation** = explains attributes and behaviors\n",
    "\n",
    "### 1.7.A.2 - Attributes vs. Behaviors\n",
    "✅ **Attributes** = data (variables) - what object HAS  \n",
    "✅ **Behaviors** = actions (methods) - what object DOES\n",
    "\n",
    "### Key Reminders:\n",
    "- `java.lang` classes don't need imports (String, Math, Integer)\n",
    "- Other packages need `import` statements (ArrayList, Scanner, Random)\n",
    "- Always check API documentation when using new classes\n",
    "- Use existing library classes instead of writing code from scratch!\n",
    "\n",
    "---\n",
    "\n",
    "## Resources\n",
    "- [Java API Documentation](https://docs.oracle.com/en/java/javase/11/docs/api/index.html)\n",
    "- [AP CSA Course Description](https://apcentral.collegeboard.org/courses/ap-computer-science-a)"
   ]
  }
 ],
 "metadata": {
  "kernelspec": {
   "display_name": "java (IJava/j!)",
   "language": "java",
   "name": "jbang-ijava"
  },
  "language_info": {
   "codemirror_mode": "java",
   "file_extension": ".jshell",
   "mimetype": "text/x-java-source",
   "name": "java",
   "pygments_lexer": "java",
   "version": "11.0.12"
  }
 },
 "nbformat": 4,
 "nbformat_minor": 2
}
