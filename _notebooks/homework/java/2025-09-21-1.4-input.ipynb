{
 "cells": [
  {
   "cell_type": "raw",
   "metadata": {
    "vscode": {
     "languageId": "raw"
    }
   },
   "source": [
    "---\n",
    "layout: post\n",
    "toc: true\n",
    "title: Assignment Statements and Input\n",
    "menu: nav/CSA_Nunits/csaunit1.html\n",
    "permalink: /csa/unit_01/1_4\n",
    "author: Nikhil, Xavier, Spencer\n",
    "---"
   ]
  },
  {
   "cell_type": "markdown",
   "metadata": {},
   "source": [
    "In this lesson, we explore two fundamental pillars of programming: **assignment statements** (how values flow into variables) and **input** (how programs receive data from users). Understanding these concepts is essential for writing interactive, dynamic programs.\n",
    "\n",
    "We'll start by learning the concepts through detailed explanations, then apply them in code examples with real-world scenarios, and finally reinforce understanding with interactive practice problems."
   ]
  },
  {
   "cell_type": "markdown",
   "metadata": {},
   "source": [
    "### Learning Objectives\n",
    "By the end of this lesson, you will be able to:\n",
    "- **LO 1.4.A**: Develop code for assignment statements with expressions and determine the value stored in variables.  \n",
    "- **LO 1.4.B**: Develop code to read input using the Scanner class.  \n",
    "\n",
    "You'll understand how data flows in programs, how to make them interactive, and common pitfalls to avoid when working with user input."
   ]
  },
  {
   "cell_type": "markdown",
   "metadata": {},
   "source": [
    "### Essential Knowledge\n",
    "- **1.4.A.1**: Every variable must be assigned a value before use. The value's type must match the declared type. Reference types can hold an object or `null`.  \n",
    "- **1.4.A.2**: The assignment operator `=` stores the result of the right-hand expression into the left-hand variable.  \n",
    "- **1.4.A.3**: Expressions are evaluated to a single value before assignment occurs.  \n",
    "- **1.4.B.1**: Input in Java is commonly handled by the `Scanner` class for reading keyboard data.  "
   ]
  },
  {
   "cell_type": "markdown",
   "metadata": {},
   "source": [
    "<style>\n",
    "/* Style for answer buttons and revealed text */\n",
    "details summary {\n",
    "    color: white !important;\n",
    "    background-color: #333;\n",
    "    padding: 8px 12px;\n",
    "    border-radius: 4px;\n",
    "    cursor: pointer;\n",
    "    font-weight: bold;\n",
    "}\n",
    "\n",
    "details summary:hover {\n",
    "    background-color: #555;\n",
    "}\n",
    "\n",
    "details[open] summary {\n",
    "    background-color: #444;\n",
    "    margin-bottom: 10px;\n",
    "}\n",
    "\n",
    "/* Force ALL content inside details to be white with maximum specificity */\n",
    "details *, \n",
    "details *::before, \n",
    "details *::after,\n",
    "details p,\n",
    "details div,\n",
    "details span,\n",
    "details strong,\n",
    "details em,\n",
    "details code,\n",
    "details pre,\n",
    "details ul,\n",
    "details li,\n",
    "details text {\n",
    "    color: white !important;\n",
    "    background: inherit !important;\n",
    "}\n",
    "\n",
    "/* Container styling */\n",
    "details div, details p {\n",
    "    background-color: #2a2a2a !important;\n",
    "    padding: 10px;\n",
    "    border-radius: 4px;\n",
    "    margin-top: 5px;\n",
    "}\n",
    "\n",
    "/* Override any inherited colors */\n",
    "details[open] {\n",
    "    color: white !important;\n",
    "}\n",
    "\n",
    "details[open] > *:not(summary) {\n",
    "    color: white !important;\n",
    "}\n",
    "</style>"
   ]
  },
  {
   "cell_type": "markdown",
   "metadata": {},
   "source": [
    "## Part 1: Assignment Statements\n",
    "\n",
    "### Understanding Variable Assignment\n",
    "\n",
    "In Java, variables are **named memory locations** that store values. Think of them as labeled boxes in the computer's memory. Before using a variable, you must:\n",
    "\n",
    "1. **Declare** it with a specific type (`int`, `double`, `String`, etc.)\n",
    "2. **Assign** it a value using the `=` operator\n",
    "\n",
    "The assignment operator works **right to left**: it evaluates the expression on the right side first, then stores that result in the variable on the left."
   ]
  },
  {
   "cell_type": "code",
   "execution_count": null,
   "metadata": {},
   "outputs": [],
   "source": [
    "// Declaration and initialization\n",
    "int a = 5;           // 'a' stores the integer 5\n",
    "int b = 3;           // 'b' stores the integer 3\n",
    "int c = a + b;       // Expression 'a + b' evaluates to 8, then stored in 'c'\n",
    "\n",
    "// Reassignment: old value is completely overwritten\n",
    "int x = 10;          // 'x' holds 10\n",
    "x = 20;              // 'x' now holds 20 (10 is gone)\n",
    "x = x + 5;           // Right side: x + 5 = 20 + 5 = 25, then stored back in x\n",
    "\n",
    "// Reference types and null\n",
    "String name = null;  // 'name' declared but points to no object\n",
    "name = \"Ahaan\";      // 'name' now references a String object containing \"Ahaan\""
   ]
  },
  {
   "cell_type": "markdown",
   "metadata": {},
   "source": [
    "### Key Insight: Expression Evaluation\n",
    "\n",
    "The critical concept here is **order of operations**. Java always:\n",
    "1. Evaluates the entire right-hand expression first\n",
    "2. Then performs the assignment\n",
    "\n",
    "This is why `x = x + 5;` works: Java reads the current value of x, adds 5, then stores the result back into x."
   ]
  },
  {
   "cell_type": "markdown",
   "metadata": {},
   "source": [
    "### Popcorn Hack 1.1: Tracing Variable Values\n",
    "**Question:** After executing this code, what is the value of `y`? Walk through each line.\n",
    "```java\n",
    "int x = 10;\n",
    "x = 20;\n",
    "int y = x;\n",
    "```\n",
    "\n",
    "<details>\n",
    "<summary>Answer</summary>\n",
    "\n",
    "y is 20. Here's why:\n",
    "- Line 1: x is assigned 10\n",
    "- Line 2: x is reassigned to 20 (the 10 is overwritten)  \n",
    "- Line 3: The current value of x (which is 20) is copied into y\n",
    "</details>"
   ]
  },
  {
   "cell_type": "markdown",
   "metadata": {},
   "source": [
    "### Popcorn Hack 1.2: Type Safety\n",
    "**Question:** What happens if you write `int count = \"hello\";`? Why does this fail, and why is this behavior actually helpful?\n",
    "\n",
    "<details>\n",
    "<summary>Answer</summary>\n",
    "\n",
    "This produces a compile-time error. Java is strongly-typed, meaning the type of the value must match the variable's declared type. An int can only hold integer values, not strings. This \"strictness\" prevents bugs—if Java allowed this, mathematical operations on count would fail unpredictably at runtime.\n",
    "</details>"
   ]
  },
  {
   "cell_type": "markdown",
   "metadata": {},
   "source": [
    "## Part 2: Input with Scanner\n",
    "\n",
    "### Why Input Matters\n",
    "Hardcoded values make programs static and inflexible. Real applications need to respond to user data dynamically. Java's `Scanner` class provides a robust mechanism for reading various data types from input streams.\n",
    "\n",
    "### Setting Up Scanner\n",
    "Two steps are required:\n",
    "\n",
    "1. **Import** the class at the top of your file:\n",
    "```java\n",
    "import java.util.Scanner;\n",
    "```\n",
    "\n",
    "2. **Instantiate** a Scanner object connected to standard input:\n",
    "```java\n",
    "Scanner sc = new Scanner(System.in);\n",
    "```\n",
    "\n",
    "The `System.in` parameter connects the Scanner to your keyboard input stream."
   ]
  },
  {
   "cell_type": "markdown",
   "metadata": {},
   "source": [
    "### Reading Different Data Types\n",
    "Scanner provides type-specific methods for reading input:"
   ]
  },
  {
   "cell_type": "code",
   "execution_count": null,
   "metadata": {},
   "outputs": [],
   "source": [
    "import java.util.Scanner;\n",
    "\n",
    "public class InputDemo {\n",
    "    public static void main(String[] args) {\n",
    "        Scanner sc = new Scanner(System.in);\n",
    "        \n",
    "        // Reading a String (entire line)\n",
    "        System.out.print(\"Enter your name: \");\n",
    "        String name = sc.nextLine();\n",
    "        System.out.println(\"Hello, \" + name + \"!\");\n",
    "        \n",
    "        // Reading an integer\n",
    "        System.out.print(\"Enter your age: \");\n",
    "        int age = sc.nextInt();\n",
    "        System.out.println(\"You entered: \" + age);\n",
    "        \n",
    "        // Reading a double\n",
    "        System.out.print(\"Enter a decimal: \");\n",
    "        double value = sc.nextDouble();\n",
    "        System.out.println(\"Double that is: \" + (value * 2));\n",
    "        \n",
    "        sc.close();  // Always close to prevent resource leaks\n",
    "    }\n",
    "}"
   ]
  },
  {
   "cell_type": "markdown",
   "metadata": {},
   "source": [
    "### Scanner Methods Overview\n",
    "\n",
    "The Scanner class provides several methods for reading different types of input:\n",
    "\n",
    "- **`nextInt()`** - Reads the next integer value (e.g., `42`)\n",
    "- **`nextDouble()`** - Reads the next decimal number (e.g., `3.14`)\n",
    "- **`next()`** - Reads the next word up to whitespace (e.g., `\"Hello\"`)\n",
    "- **`nextLine()`** - Reads an entire line including spaces (e.g., `\"Hello World\"`)\n",
    "\n",
    "### Critical Pitfall: The nextInt() / nextLine() Problem\n",
    "\n",
    "This is one of the most common stumbling blocks for Java beginners. Understanding it requires knowledge of how input buffers work.\n",
    "\n",
    "**The Problem:**\n",
    "When you call `nextInt()`, `nextDouble()`, or `next()`, these methods read only their specific token (the integer, double, or word). Critically, they **do not consume the newline character** (`\\n`) that's created when the user presses Enter. This leftover newline sits in the input buffer.\n",
    "\n",
    "If you then call `nextLine()`, it immediately encounters this leftover newline, interprets it as an empty line, and returns an empty string without waiting for user input.\n",
    "\n",
    "**Visual Example:**\n",
    "```\n",
    "Input Buffer: [2][5][\\n][R][e][m][a][i][n][i][n][g]...\n",
    "              ↑\n",
    "nextInt() reads \"25\" but leaves [\\n] behind\n",
    "\n",
    "nextLine() immediately consumes [\\n] and returns \"\"\n",
    "```"
   ]
  },
  {
   "cell_type": "markdown",
   "metadata": {},
   "source": [
    "**The Solution:**\n",
    "Insert an extra `sc.nextLine();` call immediately after `nextInt()` or `nextDouble()` to consume the leftover newline before reading a full line."
   ]
  },
  {
   "cell_type": "code",
   "execution_count": null,
   "metadata": {},
   "outputs": [],
   "source": [
    "Scanner sc = new Scanner(System.in);\n",
    "\n",
    "System.out.print(\"Enter your age: \");\n",
    "int age = sc.nextInt();\n",
    "\n",
    "// FIX: Consume the leftover newline character\n",
    "sc.nextLine();\n",
    "\n",
    "System.out.print(\"Enter your full name: \");\n",
    "String fullName = sc.nextLine();  // Now waits for input correctly\n",
    "\n",
    "System.out.println(\"Hello, \" + fullName + \"! You are \" + age + \" years old.\");\n",
    "sc.close();"
   ]
  },
  {
   "cell_type": "markdown",
   "metadata": {},
   "source": [
    "### Popcorn Hack 2.1: Input Validation\n",
    "**Question:** What happens if a user types \"twenty\" when `nextInt()` expects a number? How would you make your program more robust?\n",
    "\n",
    "<details>\n",
    "<summary>Answer</summary>\n",
    "\n",
    "A java.util.InputMismatchException is thrown because nextInt() cannot parse non-numeric text. To make it robust:\n",
    "- Use hasNextInt() to check if the next token is an integer before reading\n",
    "- Or use nextLine() to read as String, then parse with Integer.parseInt() in a try-catch block\n",
    "</details>"
   ]
  },
  {
   "cell_type": "markdown",
   "metadata": {},
   "source": [
    "### Popcorn Hack 2.2: Token vs Line\n",
    "**Question:** If a user enters \"San Diego\" when `next()` is called, what gets stored? What about with `nextLine()`?\n",
    "\n",
    "<details>\n",
    "<summary>Answer</summary>\n",
    "\n",
    "- next() stores only \"San\" because it reads until whitespace. \"Diego\" remains in the buffer.\n",
    "- nextLine() stores \"San Diego\" because it reads everything until the newline character (Enter key).\n",
    "</details>"
   ]
  },
  {
   "cell_type": "markdown",
   "metadata": {},
   "source": [
    "## Part 3: Complete Working Example\n",
    "\n",
    "Here's a comprehensive example demonstrating proper input handling:"
   ]
  },
  {
   "cell_type": "markdown",
   "metadata": {},
   "source": []
  },
  {
   "cell_type": "code",
   "execution_count": null,
   "metadata": {},
   "outputs": [],
   "source": [
    "import java.util.Scanner;\n",
    "\n",
    "public class InputLesson {\n",
    "    public static void main(String[] args) {\n",
    "        System.out.println(\"=== User Information Program ===\\n\");\n",
    "        Scanner sc = new Scanner(System.in);\n",
    "\n",
    "        // String input\n",
    "        System.out.print(\"Enter your full name: \");\n",
    "        String name = sc.nextLine();\n",
    "        \n",
    "        // Integer input\n",
    "        System.out.print(\"Enter your age: \");\n",
    "        int age = sc.nextInt();\n",
    "        \n",
    "        // Double input\n",
    "        System.out.print(\"Enter your GPA: \");\n",
    "        double gpa = sc.nextDouble();\n",
    "        \n",
    "        // Display results\n",
    "        System.out.println(\"\\n--- Summary ---\");\n",
    "        System.out.println(\"Name: \" + name);\n",
    "        System.out.println(\"Age: \" + age + \" (next year: \" + (age + 1) + \")\");\n",
    "        System.out.println(\"GPA: \" + gpa);\n",
    "        \n",
    "        sc.close();\n",
    "    }\n",
    "}"
   ]
  },
  {
   "cell_type": "markdown",
   "metadata": {},
   "source": [
    "### Popcorn Hack 3: Code Trace\n",
    "**Question:** Trace through the complete example. If the user enters \"Alice Wonderland\", 20, and 3.85, what is the exact output?\n",
    "\n",
    "<details>\n",
    "<summary>Answer</summary>\n",
    "\n",
    "=== User Information Program ===\n",
    "\n",
    "Enter your full name: Alice Wonderland\n",
    "Enter your age: 20\n",
    "Enter your GPA: 3.85\n",
    "\n",
    "--- Summary ---\n",
    "Name: Alice Wonderland\n",
    "Age: 20 (next year: 21)\n",
    "GPA: 3.85\n",
    "</details>"
   ]
  },
  {
   "cell_type": "markdown",
   "metadata": {},
   "source": [
    "## Quick Knowledge Check\n",
    "\n",
    "**Q1.** What is the value of `x` after this code executes?\n",
    "```java\n",
    "int x = 4;\n",
    "x = x + 3;\n",
    "```\n",
    "A. 4  \n",
    "B. 7  \n",
    "C. 3  \n",
    "D. null  \n",
    "\n",
    "<details>\n",
    "<summary>Answer</summary>\n",
    "\n",
    "B. The expression x + 3 evaluates to 4 + 3 = 7, which is then stored in x.\n",
    "</details>\n",
    "\n",
    "---\n",
    "\n",
    "**Q2:** Which statement(s) correctly declare and initialize a String variable?\n",
    "\n",
    "A. `String s = 5;`  \n",
    "B. `String s = null;`  \n",
    "C. `String s = \"Hello\";`  \n",
    "D. Both B and C  \n",
    "\n",
    "<details>\n",
    "<summary>Answer</summary>\n",
    "\n",
    "Both B and C are valid. null is a valid value for reference types, and \"Hello\" is a String literal.\n",
    "</details>"
   ]
  },
  {
   "cell_type": "markdown",
   "metadata": {},
   "source": [
    "## Homework Hacks: Pick One to Complete\n",
    "\n",
    "### Hack 1: Three-Number Average Calculator\n",
    "**Task:** Modify the example program to:\n",
    "- Prompt for three integers\n",
    "- Calculate their average (watch for integer division!)\n",
    "- Display the result with two decimal places\n",
    "\n",
    "**Hint:** Cast at least one number to double before division: `(double) num1 / 3`\n",
    "\n",
    "### Hack 2: Assignment vs Comparison Explanation  \n",
    "**Task:** Write an explanation distinguishing between:\n",
    "- Assignment operator (`=`)\n",
    "- Comparison operator (`==`)\n",
    "\n",
    "Include code examples showing proper usage of each. Explain a common bug that occurs when these are confused."
   ]
  },
  {
   "cell_type": "markdown",
   "metadata": {},
   "source": [
    "---\n",
    "\n",
    "The goal of this lesson is to teach you two key concepts:\n",
    "1. **How to assign values to variables** and understand how expressions are evaluated\n",
    "2. **How to take in user input** and use them in your program to create interactive applications\n",
    "\n",
    "These foundational skills will enable you to create dynamic programs that respond to user data rather than relying on hardcoded values."
   ]
  },
  {
   "cell_type": "markdown",
   "metadata": {},
   "source": [
    "### 8. Interactive Quiz Game\n",
    "Finally, here’s a fun quiz game built in **JavaScript + HTML** to test your knowledge of assignment statements, input, and how they connect to the lesson. Play through it and check your understanding!\n"
   ]
  },
  {
   "cell_type": "markdown",
   "metadata": {},
   "source": [
    "<a href=\"{{site.baseurl}}/csa/1_4/quiz\">1.3 and 1.4 Game</a>"
   ]
  }
 ],
 "metadata": {
  "kernelspec": {
   "display_name": "Java",
   "language": "java",
   "name": "java"
  },
  "language_info": {
   "name": "java"
  }
 },
 "nbformat": 4,
 "nbformat_minor": 2
}
