{
 "cells": [
  {
   "cell_type": "raw",
   "id": "bc117346",
   "metadata": {
    "vscode": {
     "languageId": "raw"
    }
   },
   "source": [
    "---\n",
    "layout: post\n",
    "toc: true\n",
    "title: Calling Instance Methods\n",
    "menu: nav/CSA_Nunits/csaunit1.html\n",
    "permalink: /csa/unit_01/1_14\n",
    "author: Risha, Aadi, Neil\n",
    "---"
   ]
  },
  {
   "cell_type": "markdown",
   "id": "9188b761",
   "metadata": {},
   "source": [
    "## Overview of Classes, Objects and Methods: A Cookie Analogy\n",
    "\n",
    "Class = blueprint\n",
    "\n",
    "- A class is like a recipe. A `Cookie` recipe says what ingredients exist and what steps to follow\n",
    "\n",
    "Object = Thing made from blueprint\n",
    "\n",
    "- Each cookie baked with `new Cookie(...)` is its own entity with its own chocolate chips\n",
    "\n",
    "Method = Action\n",
    "\n",
    "- Methods are the verbs associated with the object/things the object can do (i.e. `breakInHalf()`, `burn`, or `melt`)\n",
    "- A static/class method belongs to the blueprint, not one cookie (i.e. `Cookie.getOvenTemperature()` does not depend on any particular cookie. It is true for all cookies)"
   ]
  },
  {
   "cell_type": "markdown",
   "id": "59676d5b",
   "metadata": {},
   "source": [
    "## What is an instance method?\n",
    "\n",
    "An **instance method** is a method (function) defined in a class that operates on a particular instance (object) of that class.\n",
    "\n",
    "- It can access that object’s instance variables (its state) and perform actions using or modifying them.\n",
    "- To use an instance method, you first need an object (an instance), then you call the method via that object.\n",
    "\n",
    "Continuing with the cookie analogy:\n",
    "\n",
    "**Instance Method:** action specific cookie can do\n",
    "\n",
    "- It needs a particular cookie to run (because it uses that cookie’s data).\n",
    "- It can read/change that cookie’s fields using `this`.\n",
    "- You call it on an object, like `myCookie.addChips(3);`\n",
    "\n",
    "Compared to a static method, which would only include blueprint-level info (i.e. `public static int ovenTempF() { return 350; }` )"
   ]
  },
  {
   "cell_type": "markdown",
   "id": "4cfe67c0",
   "metadata": {},
   "source": [
    "## Static/class methods vs. instance methods\n",
    "\n",
    "| Kind           | Called on         | Can access                  | Typical use                         |\n",
    "|----------------|-------------------|-----------------------------|-------------------------------------|\n",
    "| Static/Class method   | the class itself  | only static/class variables | behavior common to all objects       |\n",
    "| Instance method| a specific object | that object’s instance variables | behavior specific to that one object |\n",
    "\n",
    "\n",
    "In other words:\n",
    "\n",
    "| Feature                                   | Instance method                         | Class (`static`) method                         |\n",
    "|-------------------------------------------|-----------------------------------------|-------------------------------------------------|\n",
    "| How you call it                           | `myCookie.addChips(2)`                  | `Cookie.ovenTempF()`                            |\n",
    "| Has a `this`?                             | Yes (`this` = that cookie)              | No (`this` is illegal)                          |\n",
    "| Can read/change per-object fields?        | Yes                                     | No (unless given an object as a parameter)      |\n",
    "| Common uses                               | Behaviors tied to one object’s state    | Utilities, factory methods, class-wide info     |\n",
    "| Inheritance behavior                      | Can be overridden (polymorphism)        | Can’t be overridden (only hidden / shadowed)    |"
   ]
  },
  {
   "cell_type": "markdown",
   "id": "f8f90c13",
   "metadata": {},
   "source": [
    "### Visual: Calling Instance Methods\n"
   ]
  },
  {
   "cell_type": "markdown",
   "id": "500189bb",
   "metadata": {
    "vscode": {
     "languageId": "html"
    }
   },
   "source": [
    "```mermaid\n",
    "sequenceDiagram\n",
    "    participant Main\n",
    "    participant c as Counter\n",
    "\n",
    "    Main->>Counter: new Counter()\n",
    "    activate c\n",
    "    Main->>c: add(5)\n",
    "    c-->>Main: (void)\n",
    "    Main->>c: getCount()\n",
    "    c-->>Main: 5\n",
    "    deactivate c\n",
    "```"
   ]
  },
  {
   "cell_type": "markdown",
   "id": "c0666752",
   "metadata": {},
   "source": [
    "## Syntax of calling an instance method:"
   ]
  },
  {
   "cell_type": "code",
   "execution_count": 1,
   "id": "4b07c3d9",
   "metadata": {},
   "outputs": [
    {
     "name": "stdout",
     "output_type": "stream",
     "text": [
      "Fido says: Woof!\n"
     ]
    }
   ],
   "source": [
    "// Suppose we have a class:\n",
    "public class Dog {\n",
    "    private String name;\n",
    "    public Dog(String name) {\n",
    "        this.name = name;\n",
    "    }\n",
    "    public void bark() {\n",
    "        System.out.println(name + \" says: Woof!\");\n",
    "    }\n",
    "}\n",
    "\n",
    "// To use it:\n",
    "Dog d = new Dog(\"Fido\");  // create an instance\n",
    "d.bark();                 // call the instance method on d"
   ]
  },
  {
   "cell_type": "markdown",
   "id": "8cb65c99",
   "metadata": {},
   "source": [
    "- `d.bark();` invokes the `bark` method on the object `d`.\n",
    "\n",
    "Inside `bark`, `this.name` refers to `d`’s /`name`."
   ]
  },
  {
   "cell_type": "markdown",
   "id": "83e12942",
   "metadata": {},
   "source": [
    "## Popcorn Hack #1\n",
    "\n",
    "- Add another property to the dog class for `breed`.\n",
    "- Add another method to the dog class that prints \"My dog `name` is a `breed`!\"\n",
    "- Create a new object of this class and call the method."
   ]
  },
  {
   "cell_type": "code",
   "execution_count": 2,
   "id": "d06eb4f1",
   "metadata": {},
   "outputs": [
    {
     "name": "stdout",
     "output_type": "stream",
     "text": [
      "Golden Retriever is my breed!\n"
     ]
    }
   ],
   "source": [
    "public class Dog {\n",
    "\n",
    "    // ADD CODE HERE\n",
    "    private String breed;\n",
    "    public Dog(String breed) {\n",
    "        this.breed = breed;\n",
    "    }\n",
    "    public void genetics() {\n",
    "        System.out.println(breed + \" is my breed!\");\n",
    "    }\n",
    "}\n",
    "\n",
    "// To use it:\n",
    "Dog d = new Dog(\"Golden Retriever\");  // create an instance\n",
    "d.genetics();  "
   ]
  },
  {
   "cell_type": "markdown",
   "id": "965887ba",
   "metadata": {},
   "source": [
    "If the method takes parameters, you provide arguments:"
   ]
  },
  {
   "cell_type": "markdown",
   "id": "caa09136",
   "metadata": {},
   "source": [
    "```java\n",
    "public class Counter {\n",
    "    private int count;\n",
    "    public void add(int x) {\n",
    "        count += x;\n",
    "    }\n",
    "    public int getCount() {\n",
    "        return count;\n",
    "    }\n",
    "}\n",
    "\n",
    "// Use it:\n",
    "Counter c = new Counter();\n",
    "c.add(5);\n",
    "int val = c.getCount();  // returns 5\n",
    "```"
   ]
  },
  {
   "cell_type": "markdown",
   "id": "c1985ac2",
   "metadata": {},
   "source": [
    "- ```c.add(5);``` — calls method ```add``` on ```c``` with argument ```5```.\n",
    "- ```c.getCount()```; — calls method that returns an ```int```."
   ]
  },
  {
   "cell_type": "markdown",
   "id": "66522e74",
   "metadata": {},
   "source": [
    "## Popcorn Hack #2\n",
    "\n",
    "- Add on to the previous counter class and add three more methods for subtraction, multiplication, and division.\n",
    "\n",
    "- Call all five methods outside of the class."
   ]
  },
  {
   "cell_type": "code",
   "execution_count": null,
   "id": "b81314b8",
   "metadata": {},
   "outputs": [],
   "source": [
    "public class Counter {\n",
    "    private int count;\n",
    "    \n",
    "    // ADD CODE HERE\n",
    "}\n",
    "\n",
    "// Use it:\n",
    "// ADD CODE HERE"
   ]
  },
  {
   "cell_type": "markdown",
   "id": "45c5bc95",
   "metadata": {},
   "source": [
    "## Key points & common errors\n",
    "\n",
    "1. Must have an object reference\n",
    "\n",
    "- You can’t call an instance method from the class name (unless you have a static context). E.g., ```Dog.bark()```; is invalid (unless ```bark``` is static), because ```bark``` needs a specific object.\n",
    "\n",
    "2. Return values vs void methods\n",
    "\n",
    "- A method declared ```void``` doesn’t return anything; you just call it for its side effects (e.g. ```d.bark();```).\n",
    "- A non-void method returns a value; you can use that value in expressions, assign it to variables, etc. (e.g. ```int x = c.getCount();```).\n",
    "\n",
    "3. Passing arguments\n",
    "\n",
    "- If a method requires parameters, you must supply arguments of matching types when calling.\n",
    "\n",
    "4. Chaining (optional / advanced)\n",
    "\n",
    "- If a method returns an object (or the same object), you can chain calls. \n",
    "- E.g. ```obj.method1().method2();``` but this is only applicable when the return types line up."
   ]
  },
  {
   "cell_type": "markdown",
   "id": "e4c6dc8a",
   "metadata": {},
   "source": [
    "## Example: Turtle House\n",
    "\n",
    "Suppose you have a ```Turtle``` class that can move and draw:"
   ]
  },
  {
   "cell_type": "markdown",
   "id": "3798fbb7",
   "metadata": {},
   "source": [
    "```java\n",
    "public class Turtle {\n",
    "    private int x, y;\n",
    "    public void forward(int distance) {\n",
    "        // move the turtle forward by distance\n",
    "    }\n",
    "    public void turnLeft(int degrees) {\n",
    "        // rotate turtle direction\n",
    "    }\n",
    "    public void drawHouse() {\n",
    "        // uses forward and turnLeft to draw a house\n",
    "        forward(50);\n",
    "        turnLeft(90);\n",
    "        forward(50);\n",
    "        // etc.\n",
    "    }\n",
    "}\n",
    "```"
   ]
  },
  {
   "cell_type": "markdown",
   "id": "cc3469b8",
   "metadata": {},
   "source": [
    "You might use it like:"
   ]
  },
  {
   "cell_type": "markdown",
   "id": "f1635e34",
   "metadata": {},
   "source": [
    "```java\n",
    "Turtle t = new Turtle();\n",
    "t.drawHouse();   // high-level call, internally calls forward, turnLeft, etc.\n",
    "```"
   ]
  },
  {
   "cell_type": "markdown",
   "id": "83efc1de",
   "metadata": {},
   "source": [
    "Here, ```drawHouse``` is an instance method that, when invoked on ```t```, calls other instance methods (```forward```, ```turnLeft```) on the same object (implicitly ```this.forward(...)```s, etc.)."
   ]
  },
  {
   "cell_type": "markdown",
   "id": "451f2908",
   "metadata": {},
   "source": [
    "### Important Rules to Keep in Mind (AP Test-Specific):\n",
    "\n",
    "1. You must create an object before calling its instance methods. You cannot call an instance method directly on the class name (e.g., ```Dog.bark()``` won't work unless bark is static).\n",
    "2. The object reference cannot be ```null```. If you try to call an instance method on a null reference, you'll get a ```NullPointerException``` at runtime.\n",
    "3. Arguments must match parameter types exactly (or be compatible through widening conversion). The number, order, and types of arguments must match the method signature.\n",
    "4. ```void``` methods don't return values. You cannot assign the result of a ```void``` method to a variable or use it in an expression (e.g., ```int x = d.bark()```; is invalid if ```bark``` is ```void```).\n",
    "5. Method calls are evaluated left-to-right. When chaining methods (e.g., ```obj.method1().method2()```), Java evaluates from left to right, and each method must return an appropriate object for the next call.\n",
    "6. Instance methods can call other instance methods of the same class directly (without needing ```this.```), and they implicitly operate on the same object.\n",
    "7. Parameter names in the method definition don't matter when calling. When you call ```c.add(5)```, the actual argument ```5``` gets passed to whatever the parameter is named in the method definition.\n"
   ]
  },
  {
   "cell_type": "markdown",
   "id": "51d1dcba",
   "metadata": {},
   "source": [
    "## Bonus Example!"
   ]
  },
  {
   "cell_type": "markdown",
   "id": "4e35b36c",
   "metadata": {
    "vscode": {
     "languageId": "raw"
    }
   },
   "source": [
    "```java\n",
    "// Define the Joke class\n",
    "class Joke {\n",
    "    private String setup;\n",
    "    private String punchline;\n",
    "\n",
    "    public Joke(String setup, String punchline) {\n",
    "        this.setup = setup;\n",
    "        this.punchline = punchline;\n",
    "    }\n",
    "\n",
    "    public void tellJoke() {\n",
    "        System.out.println(setup);\n",
    "        System.out.println(punchline);\n",
    "    }\n",
    "}\n",
    "\n",
    "// Create and run a joke\n",
    "Joke myJoke = new Joke(\"Why don’t programmers like nature?\",\n",
    "                       \"Because it has too many bugs!\");\n",
    "\n",
    "myJoke.tellJoke();\n",
    "```"
   ]
  },
  {
   "cell_type": "markdown",
   "id": "77a2ded7",
   "metadata": {},
   "source": [
    "## MC Hacks\n",
    "\n",
    "### Question 1\n",
    "\n",
    "Consider the following class:\n",
    "```java\n",
    "public class BankAccount {\n",
    "    private double balance;\n",
    "    \n",
    "    public BankAccount(double initialBalance) {\n",
    "        balance = initialBalance;\n",
    "    }\n",
    "    \n",
    "    public void deposit(double amount) {\n",
    "        balance += amount;\n",
    "    }\n",
    "    \n",
    "    public double getBalance() {\n",
    "        return balance;\n",
    "    }\n",
    "}\n",
    "```\n",
    "\n",
    "Which of the following code segments will compile without error:\n",
    "\n",
    "A)\n",
    "```java\n",
    "BankAccount.deposit(50.0);\n",
    "double total = BankAccount.getBalance();\n",
    "```\n",
    "\n",
    "B)\n",
    "```java\n",
    "BankAccount account = new BankAccount(100.0);\n",
    "account.deposit(50.0);\n",
    "double total = account.getBalance();\n",
    "```\n",
    "\n",
    "C)\n",
    "```java\n",
    "BankAccount account = new BankAccount(100.0);\n",
    "double total = account.deposit(50.0);\n",
    "```\n",
    "\n",
    "D)\n",
    "```java\n",
    "BankAccount account;\n",
    "account.deposit(50.0);\n",
    "double total = account.getBalance();\n",
    "```\n",
    "\n",
    "E)\n",
    "```java\n",
    "double total = getBalance();\n",
    "BankAccount account = new BankAccount(total);\n",
    "```\n",
    "\n",
    "### Question 2\n",
    "\n",
    "What is printed as a result of executing the following code?\n",
    "\n",
    "```java\n",
    "public class Rectangle {\n",
    "    private int length;\n",
    "    private int width;\n",
    "    \n",
    "    public Rectangle(int l, int w) {\n",
    "        length = l;\n",
    "        width = w;\n",
    "    }\n",
    "    \n",
    "    public int getArea() {\n",
    "        return length * width;\n",
    "    }\n",
    "    \n",
    "    public void scale(int factor) {\n",
    "        length *= factor;\n",
    "        width *= factor;\n",
    "    }\n",
    "}\n",
    "\n",
    "Rectangle rect = new Rectangle(3, 4);\n",
    "rect.scale(2);\n",
    "System.out.println(rect.getArea());\n",
    "```\n",
    "\n",
    "A) 12\n",
    "\n",
    "B) 24\n",
    "\n",
    "C) 48\n",
    "\n",
    "D) 96\n",
    "\n",
    "E) Nothing is printed; the code does not compile\n",
    "\n",
    "### Question 3\n",
    "\n",
    "Which of the following best describes when a `NullPointerException` will occur when calling an instance method?\n",
    "\n",
    "A) When the method is declared as `void`\n",
    "\n",
    "B) When the method is called on a reference variable that has not been initialized to an object\n",
    "\n",
    "C) When the method's parameters do not match the arguments provided\n",
    "\n",
    "D) When the method is called from outside the class\n",
    "\n",
    "E) When the method attempts to return a value but is declared as `void`\n",
    "\n",
    "### Question 4\n",
    "\n",
    "Which of the following code segments will NOT compile?\n",
    "```java\n",
    "public class Temperature {\n",
    "    private double celsius;\n",
    "    \n",
    "    public Temperature(double c) {\n",
    "        celsius = c;\n",
    "    }\n",
    "    \n",
    "    public double getFahrenheit() {\n",
    "        return celsius * 9.0 / 5.0 + 32;\n",
    "    }\n",
    "    \n",
    "    public void setCelsius(double c) {\n",
    "        celsius = c;\n",
    "    }\n",
    "}\n",
    "```\n",
    "\n",
    "A)\n",
    "```java\n",
    "Temperature temp = new Temperature(0);\n",
    "System.out.println(temp.getFahrenheit());\n",
    "```\n",
    "\n",
    "B)\n",
    "```java\n",
    "Temperature temp = new Temperature(100);\n",
    "temp.setCelsius(25);\n",
    "```\n",
    "\n",
    "C)\n",
    "```java\n",
    "Temperature temp = new Temperature(20);\n",
    "double f = temp.getFahrenheit();\n",
    "```\n",
    "\n",
    "D)\n",
    "```java\n",
    "Temperature temp = new Temperature(15);\n",
    "int result = temp.setCelsius(30);\n",
    "```\n",
    "\n",
    "E)\n",
    "```java\n",
    "Temperature temp = new Temperature(0);\n",
    "temp.setCelsius(100);\n",
    "double f = temp.getFahrenheit();\n",
    "```\n",
    "\n",
    "### Question 5\n",
    "\n",
    "Consider the following class:\n",
    "```java\n",
    "public class Book {\n",
    "    private String title;\n",
    "    private int pages;\n",
    "    \n",
    "    public Book(String t, int p) {\n",
    "        title = t;\n",
    "        pages = p;\n",
    "    }\n",
    "    \n",
    "    public String getTitle() {\n",
    "        return title;\n",
    "    }\n",
    "    \n",
    "    public int getPages() {\n",
    "        return pages;\n",
    "    }\n",
    "    \n",
    "    public void addPages(int additional) {\n",
    "        pages += additional;\n",
    "    }\n",
    "}\n",
    "```\n",
    "\n",
    "Assume that the following code segment appears in a class other than Book:\n",
    "\n",
    "```java\n",
    "Book novel = new Book(\"Java Basics\", 200);\n",
    "novel.addPages(50);\n",
    "/* missing code */\n",
    "```\n",
    "\n",
    "Which of the following can replace /* missing code */ so that the value 250 is printed?\n",
    "\n",
    "A) `System.out.println(pages);`\n",
    "\n",
    "B) `System.out.println(novel.pages);`\n",
    "\n",
    "C) `System.out.println(Book.getPages());`\n",
    "\n",
    "D) `System.out.println(novel.getPages());`\n",
    "\n",
    "E) `System.out.println(getPages());`"
   ]
  }
 ],
 "metadata": {
  "kernelspec": {
   "display_name": "java (IJava/j!)-tcp",
   "language": "java",
   "name": "jbang-ijava-tcp"
  },
  "language_info": {
   "codemirror_mode": "java",
   "file_extension": ".jshell",
   "mimetype": "text/x-java-source",
   "name": "java",
   "pygments_lexer": "java",
   "version": "17.0.8+7"
  }
 },
 "nbformat": 4,
 "nbformat_minor": 5
}
