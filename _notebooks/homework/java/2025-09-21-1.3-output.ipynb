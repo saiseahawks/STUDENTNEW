{
 "cells": [
  {
   "cell_type": "raw",
   "metadata": {
    "vscode": {
     "languageId": "raw"
    }
   },
   "source": [
    "---\n",
    "layout: post\n",
    "toc: true\n",
    "title: Expressions and Output\n",
    "menu: nav/CSA_Nunits/csaunit1.html\n",
    "permalink: /csa/unit_01/1_3\n",
    "author: Ahaan, Arnav, Sharuya\n",
    "---"
   ]
  },
  {
   "cell_type": "markdown",
   "metadata": {},
   "source": [
    "## CSA Unit 1.3 — Expressions and Output\n",
    "\n",
    "## Learning Objectives\n",
    "- **1.3.A**: Develop code to generate output and determine the result that would be displayed.\n",
    "- **1.3.B**: Develop code to utilize string literals and determine the result of using string literals.\n",
    "- **1.3.C**: Develop code for arithmetic expressions and determine the result of these expressions.\n",
    "\n",
    "---\n",
    "## Essential Knowledge\n",
    "- **1.3.A.1**: `System.out.print` and `System.out.println` display information.\n",
    "  - `println` → prints + moves to a new line.\n",
    "  - `print` → prints but stays on the same line.\n",
    "  - `printf` → advanced formatting with placeholders.\n",
    "- **1.3.B.1**: A literal is a fixed value (like `5`, `3.14`, or `\"Hello\"`).\n",
    "- **1.3.B.2**: A string literal is text inside double quotes.\n",
    "- **1.3.B.3**: Escape sequences let you control formatting:\n",
    "  - `\\\"` → double quote\n",
    "  - `\\\\` → backslash\n",
    "  - `\\n` → newline\n",
    "  - `\\t` → tab\n",
    "- **1.3.C.1**: Arithmetic expressions use `int` and `double` with operators (`+`, `-`, `*`, `/`, `%`).\n",
    "- **1.3.C.2**: Division with integers truncates toward zero. `%` gives the remainder."
   ]
  },
  {
   "cell_type": "markdown",
   "metadata": {},
   "source": [
    "## Expressions in Java\n",
    "\n",
    "Expressions are combinations of **literals**, **variables**, and **operators** that Java evaluates to produce a value.  \n",
    "In Unit 1.3, we focus on **arithmetic expressions**.\n",
    "\n",
    "### Arithmetic Operators\n",
    "- `+` → addition  \n",
    "- `-` → subtraction  \n",
    "- `*` → multiplication  \n",
    "- `/` → division  \n",
    "- `%` → modulus (remainder)  \n",
    "\n",
    "```java\n",
    "System.out.println(7 + 3);   // 10\n",
    "System.out.println(7 - 3);   // 4\n",
    "System.out.println(7 * 3);   // 21\n",
    "System.out.println(7 / 3);   // 2  (integer division)\n",
    "System.out.println(7 % 3);   // 1  (remainder)\n"
   ]
  },
  {
   "cell_type": "markdown",
   "metadata": {},
   "source": [
    "### Integer vs. Decimal Division\n",
    "\n",
    "- If both operands are int, the result is truncated (no decimals).\n",
    "\n",
    "- If at least one operand is a double, the result is a double."
   ]
  },
  {
   "cell_type": "markdown",
   "metadata": {},
   "source": [
    "```java\n",
    "System.out.println(7 / 3);     // 2\n",
    "System.out.println(7.0 / 3);   // 2.333333...\n",
    "System.out.println(7 / 3.0);   // 2.333333...\n"
   ]
  },
  {
   "cell_type": "markdown",
   "metadata": {},
   "source": [
    "### Operator Precedence\n",
    "\n",
    "Java uses order of operations (PEMDAS):\n",
    "\n",
    "- Parentheses ()\n",
    "\n",
    "- Multiplication *, Division /, Modulus %\n",
    "\n",
    "- Addition +, Subtraction -"
   ]
  },
  {
   "cell_type": "markdown",
   "metadata": {},
   "source": [
    "```java\n",
    "System.out.println(2 + 3 * 4);   // 14\n",
    "System.out.println((2 + 3) * 4); // 20\n"
   ]
  },
  {
   "cell_type": "markdown",
   "metadata": {},
   "source": [
    "### Combining Strings and Numbers\n",
    "\n",
    "Using + with a string triggers string concatenation."
   ]
  },
  {
   "cell_type": "markdown",
   "metadata": {},
   "source": [
    "```java\n",
    "System.out.println(\"Result: \" + 5 + 3);   // Result: 53\n",
    "System.out.println(\"Result: \" + (5 + 3)); // Result: 8\n"
   ]
  },
  {
   "cell_type": "markdown",
   "metadata": {},
   "source": []
  },
  {
   "cell_type": "markdown",
   "metadata": {},
   "source": [
    "## Outputs"
   ]
  },
  {
   "cell_type": "markdown",
   "metadata": {},
   "source": [
    "### Types of Output\n",
    "- **System.out.print()** → prints text without newline.\n",
    "- **System.out.println()** → prints text with newline.\n",
    "- **System.out.printf()** → formatted printing (useful for decimals, alignment).\n",
    "\n",
    "👉 Think of output as the program talking back to the user. Clear formatting is key!"
   ]
  },
  {
   "cell_type": "code",
   "execution_count": null,
   "metadata": {
    "vscode": {
     "languageId": "java"
    }
   },
   "outputs": [],
   "source": [
    "// Example: println vs print\n",
    "System.out.print(\"Hello\");\n",
    "System.out.print(\" World\");\n",
    "System.out.println(\"!\"); // moves to new line\n",
    "System.out.println(\"Done\");"
   ]
  },
  {
   "cell_type": "markdown",
   "metadata": {},
   "source": [
    "Output:\n",
    "```\n",
    "Hello World!\n",
    "Done\n",
    "```"
   ]
  },
  {
   "cell_type": "code",
   "execution_count": null,
   "metadata": {
    "vscode": {
     "languageId": "java"
    }
   },
   "outputs": [],
   "source": [
    "// Example: Escape Sequences\n",
    "System.out.println(\"She said: \\\"Java is fun!\\\"\");\n",
    "System.out.println(\"Line1\\nLine2\");\n",
    "System.out.println(\"C:\\\\Users\\\\Student\");\n",
    "System.out.println(\"Column1\\tColumn2\");"
   ]
  },
  {
   "cell_type": "markdown",
   "metadata": {},
   "source": [
    "Output:\n",
    "```\n",
    "She said: \"Java is fun!\"\n",
    "Line1\n",
    "Line2\n",
    "C:\\Users\\Student\n",
    "Column1    Column2\n",
    "```"
   ]
  },
  {
   "cell_type": "markdown",
   "metadata": {},
   "source": [
    "## Popcorn Hack 1"
   ]
  },
  {
   "cell_type": "markdown",
   "metadata": {},
   "source": [
    "<div>\n",
    "  <label for=\"frq1\">Recall as many key formatting tools as you can without refering to the above section and list them here. Then, explain what each of them does. Finally, write a line of code using as many of the tools as you can.</label><br>\n",
    "  <textarea id=\"frq1\" rows=\"5\" cols=\"80\"></textarea><br>\n",
    "  <button onclick=\"saveFRQ('frq1')\">💾 Save Answer</button>\n",
    "</div>\n",
    "<script>\n",
    "function saveFRQ(id) {\n",
    "  let val = document.getElementById(id).value;\n",
    "  localStorage.setItem(id, val);\n",
    "  alert(\"Answer saved!\");\n",
    "}\n",
    "window.addEventListener(\"load\", () => {\n",
    "  document.querySelectorAll(\"textarea\").forEach(t => {\n",
    "    let saved = localStorage.getItem(t.id);\n",
    "    if (saved) t.value = saved;\n",
    "  });\n",
    "});\n",
    "</script>\n",
    "<br>"
   ]
  },
  {
   "cell_type": "code",
   "execution_count": null,
   "metadata": {
    "vscode": {
     "languageId": "java"
    }
   },
   "outputs": [],
   "source": [
    "// Example: Arithmetic Expressions\n",
    "int a = 7;\n",
    "int b = 3;\n",
    "System.out.println(\"a + b = \" + (a + b));\n",
    "System.out.println(\"a - b = \" + (a - b));\n",
    "System.out.println(\"a * b = \" + (a * b));\n",
    "System.out.println(\"a / b = \" + (a / b)); // integer division\n",
    "System.out.println(\"a % b = \" + (a % b));\n",
    "\n",
    "double x = 7.0;\n",
    "double y = 3.0;\n",
    "System.out.println(\"x / y = \" + (x / y)); // floating-point division"
   ]
  },
  {
   "cell_type": "markdown",
   "metadata": {},
   "source": [
    "Output:\n",
    "```\n",
    "a + b = 10\n",
    "a - b = 4\n",
    "a * b = 21\n",
    "a / b = 2\n",
    "a % b = 1\n",
    "x / y = 2.3333333333333335\n",
    "```"
   ]
  },
  {
   "cell_type": "markdown",
   "metadata": {},
   "source": [
    "## Real-World Example — Menu.java\n",
    "Menus use **expressions and output** to guide the user. This is a real-world example of combining literals, escape sequences, and arithmetic into meaningful display.\n",
    "- **Output** gives users choices.\n",
    "- **Expressions** let us count and customize menus.\n",
    "- **Input (preview of Unit 1.4)** lets users interact with the program."
   ]
  },
  {
   "cell_type": "code",
   "execution_count": null,
   "metadata": {
    "vscode": {
     "languageId": "java"
    }
   },
   "outputs": [],
   "source": [
    "import java.util.Scanner;\n",
    "\n",
    "public class Menu {\n",
    "    public static void main(String[] args) {\n",
    "        Scanner sc = new Scanner(System.in);\n",
    "\n",
    "        System.out.println(\"==== Main Menu ====\");\n",
    "        System.out.println(\"1. Start Game\");\n",
    "        System.out.println(\"2. Instructions\");\n",
    "        System.out.println(\"3. Exit\");\n",
    "\n",
    "        System.out.print(\"Choose an option: \");\n",
    "        int choice = sc.nextInt();\n",
    "\n",
    "        System.out.println(\"You selected option: \" + choice);\n",
    "\n",
    "        int optionCount = 3;\n",
    "        System.out.println(\"There are \" + optionCount + \" total options.\");\n",
    "    }\n",
    "}"
   ]
  },
  {
   "cell_type": "markdown",
   "metadata": {},
   "source": [
    "## Popcorn Hack 2"
   ]
  },
  {
   "cell_type": "markdown",
   "metadata": {},
   "source": [
    "<div>\n",
    "  <label for=\"frq2\">What are the formatting tools used here and what is their purpose? How do they make the output cleaner/better?<</label><br>\n",
    "  <textarea id=\"frq2\" rows=\"5\" cols=\"80\"></textarea><br>\n",
    "  <button onclick=\"saveFRQ('frq2')\">💾 Save Answer</button>\n",
    "</div>\n",
    "<script>\n",
    "function saveFRQ(id) {\n",
    "  let val = document.getElementById(id).value;\n",
    "  localStorage.setItem(id, val);\n",
    "  alert(\"Answer saved!\");\n",
    "}\n",
    "window.addEventListener(\"load\", () => {\n",
    "  document.querySelectorAll(\"textarea\").forEach(t => {\n",
    "    let saved = localStorage.getItem(t.id);\n",
    "    if (saved) t.value = saved;\n",
    "  });\n",
    "});\n",
    "</script>\n",
    "<br>"
   ]
  },
  {
   "cell_type": "markdown",
   "metadata": {},
   "source": [
    "### Why Menu.java Matters\n",
    "- Uses **output** to display instructions.\n",
    "- Uses **expressions** to dynamically show option count.\n",
    "- Uses **escape sequences** for clean formatting.\n",
    "- Real-world: menus are everywhere (ATMs, games, apps, vending machines).\n"
   ]
  },
  {
   "cell_type": "markdown",
   "metadata": {},
   "source": [
    "## Homework Hack 1\n",
    "1. **Predict Output**: What will this print?\n",
    "```java\n",
    "System.out.print(\"AP \");\n",
    "System.out.println(\"CSA\");\n",
    "System.out.println(\"Rocks!\");\n",
    "```\n",
    "\n",
    "2. **Fix the Bug**: The following is supposed to print `C:\\Users\\Student`, but it fails. Correct it:\n",
    "```java\n",
    "System.out.println(\"C:\\Users\\Student\");\n",
    "```\n",
    "\n",
    "3. **Menu Hack**: Add a 4th option (`Settings`) to `Menu.java` and update `optionCount` accordingly.\n",
    "\n",
    "4. **Challenge**: Use `System.out.printf` to print pi with 2 decimals.\n",
    "```java\n",
    "System.out.printf(\"Pi = %.2f\\n\", Math.PI);\n",
    "```"
   ]
  },
  {
   "cell_type": "markdown",
   "metadata": {},
   "source": [
    "## Homework Hack 2\n",
    "- Expand `Menu.java` into a **calculator menu**:\n",
    "  1. Print a menu with options: `Add`, `Subtract`, `Multiply`, `Divide`.\n",
    "  2. Ask the user for two numbers.\n",
    "  3. Use arithmetic expressions to compute and display the result.\n",
    "  4. Example run:\n",
    "```\n",
    "==== Calculator Menu ====\n",
    "1. Add\n",
    "2. Subtract\n",
    "3. Multiply\n",
    "4. Divide\n",
    "Choose an option: 1\n",
    "Enter first number: 10\n",
    "Enter second number: 5\n",
    "Result: 15\n",
    "```"
   ]
  },
  {
   "cell_type": "markdown",
   "metadata": {},
   "source": [
    "## Key Takeaways\n",
    "- Output = communication from program to user.\n",
    "- `print` vs `println` vs `printf` control formatting.\n",
    "- Escape sequences handle special characters and formatting.\n",
    "- Arithmetic expressions make output dynamic.\n",
    "- `Menu.java` demonstrates real-world application of expressions + output."
   ]
  }
 ],
 "metadata": {
  "kernelspec": {
   "display_name": "venv",
   "language": "python",
   "name": "python3"
  },
  "language_info": {
   "codemirror_mode": {
    "name": "ipython",
    "version": 3
   },
   "file_extension": ".py",
   "mimetype": "text/x-python",
   "name": "python",
   "nbconvert_exporter": "python",
   "pygments_lexer": "ipython3",
   "version": "3.12.3"
  }
 },
 "nbformat": 4,
 "nbformat_minor": 2
}
