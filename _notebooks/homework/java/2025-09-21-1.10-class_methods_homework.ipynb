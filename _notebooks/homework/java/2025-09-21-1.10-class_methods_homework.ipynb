{
 "cells": [
  {
   "cell_type": "raw",
   "id": "498ed049",
   "metadata": {
    "vscode": {
     "languageId": "raw"
    }
   },
   "source": [
    "---\n",
    "layout: post\n",
    "toc: true\n",
    "title: Calling Class Methods Homework\n",
    "menu: nav/CSA_Nunits/csaunit1.html\n",
    "permalink: /csa/unit_01/1_10/homework\n",
    "author: Trevor, Kush, Elliot, Aranya, Travis, Alex\n",
    "---"
   ]
  },
  {
   "cell_type": "markdown",
   "id": "3a4007b3",
   "metadata": {},
   "source": [
    "# Homework: Ultimate Battle\n",
    "\n",
    "---\n",
    "\n",
    "## Scenario\n",
    "\n",
    "You are programming a game where 2 objects of your choosing (e.g., Robots, Dinosaurs, People) battle. Each object has health and power.\n",
    "\n",
    "---\n",
    "\n",
    "## Instructions\n",
    "\n",
    "1. **Create a class** representing your object with:\n",
    "\n",
    "   **Instance variables:**  \n",
    "   - `String name`  \n",
    "   - `int power`  \n",
    "   - `int health`  \n",
    "   - `MAKE YOUR OWN`\n",
    "\n",
    "   **Static variables:**\n",
    "   - `double fightDuration`\n",
    "\n",
    "   **Instance methods:**  \n",
    "   - `void attack()`\n",
    "   - `void printStatus()`\n",
    "   - `MAKE YOUR OWN`\n",
    "\n",
    "   **Class methods:**  \n",
    "   - `static int strongerFighter()`\n",
    "   - `static void beginBattle()`\n",
    "   - `MAKE YOUR OWN`\n",
    "\n",
    "2. **In `main`:**  \n",
    "   - Create two objects.  \n",
    "   - Use instance methods to attack and print status.  \n",
    "   - Use static methods to compare, print a fact, and start the battle."
   ]
  },
  {
   "cell_type": "code",
   "execution_count": null,
   "id": "73c91681",
   "metadata": {},
   "outputs": [],
   "source": [
    "// Code Here"
   ]
  }
 ],
 "metadata": {
  "kernelspec": {
   "display_name": "java (JJava/j!)",
   "language": "java",
   "name": "jbang-jjava"
  },
  "language_info": {
   "codemirror_mode": "java",
   "file_extension": ".jshell",
   "mimetype": "text/x-java-source",
   "name": "java",
   "pygments_lexer": "java",
   "version": "17.0.16+0"
  }
 },
 "nbformat": 4,
 "nbformat_minor": 5
}
