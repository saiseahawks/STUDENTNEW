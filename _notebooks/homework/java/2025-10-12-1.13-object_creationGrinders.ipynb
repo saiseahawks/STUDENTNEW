{
  "cells": [
    {
      "cell_type": "raw",
      "id": "8a9ce0fe",
      "metadata": {
        "vscode": {
          "languageId": "raw"
        }
      },
      "source": [
        "---\n",
        "layout: post\n",
        "toc: true\n",
        "title: Object Creation and Storage (Instantiation)\n",
        "menu: nav/CSA_Nunits/csaunit1.html\n",
        "permalink: /csa/unit_01/1_13\n",
        "authors: Nora, Soni, Avika\n",
        "---"
      ]
    },
    {
      "cell_type": "markdown",
      "id": "e09ebd64",
      "metadata": {},
      "source": [
        "# Learning Objectives\n",
        "## By the end of this lesson, you will be able to:\n",
        "\n",
        "1. Understand how Java assigns memory for objects and primitives\n",
        "\n",
        "2. Tell the difference between stack and heap memory\n",
        "\n",
        "3. Explain the difference between pass-by-value and pass-by-reference\n",
        "\n",
        "4. Create and instantiate objects using constructors"
      ]
    },
    {
      "cell_type": "markdown",
      "id": "6ef5fab4",
      "metadata": {},
      "source": [
        "## Brief Overview\n",
        "| Concept            | Easy Explanation                                   |\n",
        "|-------------------|---------------------------------------------------|\n",
        "| Memory for objects | Java puts tiny toys on your desk, big toy boxes in another room |\n",
        "| Stack              | Your desk — for small things                      |\n",
        "| Heap               | The playroom — for big things                     |\n",
        "| Pass-by-value      | You share a copy of your toy                      |\n",
        "| Pass-by-reference  | You share the same toy box                        |\n",
        "| Constructor        | A machine that builds your toy boxes (objects)   |\n"
      ]
    },
    {
      "cell_type": "markdown",
      "id": "8d13d437",
      "metadata": {},
      "source": [
        "## What is Instantiation?\n",
        "Instantiation is the process of creating an actual instance **(object)** of a class. When you instantiate an object, you're allocating memory and initializing it based on the class blueprint."
      ]
    },
    {
      "cell_type": "code",
      "execution_count": null,
      "id": "f72da81f",
      "metadata": {},
      "outputs": [],
      "source": [
        "// Class Dog is the blueprint\n",
        "class Dog {\n",
        "    String name;\n",
        "    int age;\n",
        "}\n",
        "\n",
        "// Instantiation creates objects from the blueprint\n",
        "Dog myDog = new Dog();  // Creating an instance\n",
        "Dog yourDog = new Dog(); // Creating another instance"
      ]
    },
    {
      "cell_type": "markdown",
      "id": "bb803cdc",
      "metadata": {},
      "source": [
        "Think of a class as a cookie cutter and objects as the actual cookies you make with it!\n",
        "\n",
        "<img src=\"{{site.baseur}}/images/Cookie.png\" alt=\"cookie analogy\" width=\"200\" height=\"200\">\n"
      ]
    },
    {
      "cell_type": "markdown",
      "id": "a6533bcd",
      "metadata": {},
      "source": [
        "---"
      ]
    },
    {
      "cell_type": "markdown",
      "id": "1004c6f5",
      "metadata": {},
      "source": [
        "# Memory Allocation: Stack and Heap"
      ]
    },
    {
      "cell_type": "markdown",
      "id": "27e2fe30",
      "metadata": {},
      "source": [
        "In Java, memory allocation for variables occurs in two main areas: \n",
        "1. the stack \n",
        "2. the heap\n",
        "\n",
        "Stack and Heap are places where you can send your data to be used later!"
      ]
    },
    {
      "cell_type": "markdown",
      "id": "93f13f75",
      "metadata": {},
      "source": [
        "---"
      ]
    },
    {
      "cell_type": "markdown",
      "id": "52a8704f",
      "metadata": {},
      "source": [
        "# Stack Memory"
      ]
    },
    {
      "cell_type": "markdown",
      "id": "a4b97f4c",
      "metadata": {},
      "source": [
        "Stack memory operates on a Last-In-First-Out idea, like a stack of plates, you can only grab one from the top, not from the middle."
      ]
    },
    {
      "cell_type": "markdown",
      "id": "d75aa327",
      "metadata": {},
      "source": [
        "### Charecteristics\n",
        "\n",
        "- Stores primitive data types (int, double, boolean, char, etc.)\n",
        "- Each thread has its own stack (thread-safe)\n",
        "- Automatically managed - memory is freed when method returns\n",
        "- Fast allocation and deallocation\n",
        "- Limited in size (can cause StackOverflowError)"
      ]
    },
    {
      "cell_type": "code",
      "execution_count": null,
      "id": "867d5dff",
      "metadata": {},
      "outputs": [],
      "source": [
        "public class StackDemo {\n",
        "    public static void main(String[] args) {\n",
        "        int number = 100;           // Primitive stored in stack\n",
        "        double price = 49.99;       // Primitive stored in stack\n",
        "        boolean isActive = true;    // Primitive stored in stack\n",
        "        String name;                // Reference stored in stack (and in heap)\n",
        "        \n",
        "        System.out.println(\"Number: \" + number);\n",
        "        System.out.println(\"Price: \" + price);\n",
        "        System.out.println(\"Is Active: \" + isActive);\n",
        "    }\n",
        "}"
      ]
    },
    {
      "cell_type": "markdown",
      "id": "deae96f3",
      "metadata": {},
      "source": [
        "**College Board tests these concepts!**\n",
        "\n",
        "- Primitives point directly to their value - Since primitives are always on the stack they contain their actual value, not a reference.\n",
        "\n",
        "- Reference types contain an address - A reference variable (like for objects) contains the memory address where the actual object lives on the heap.\n",
        "\n",
        "- Method parameters create copies - Passing a variable to a method creates a copy of that variable's content.\n",
        "\n",
        "- Pass-by-value for primitives - Changes to primitive parameters inside a method don't affect the original variable.\n",
        "\n",
        "- Pass-by-reference for objects - Since references are copied, changes to object contents ARE reflected in the original object.\n"
      ]
    },
    {
      "cell_type": "markdown",
      "id": "3ac0b09d",
      "metadata": {},
      "source": [
        "---"
      ]
    },
    {
      "cell_type": "markdown",
      "id": "591f2c9b",
      "metadata": {},
      "source": [
        "# Heap Memory\n"
      ]
    },
    {
      "cell_type": "markdown",
      "id": "2418d5e7",
      "metadata": {},
      "source": [
        "Heap memory is like a playroom, filled with toys (data/primitives) everywhere that you can grab in any order"
      ]
    },
    {
      "cell_type": "markdown",
      "id": "519bedde",
      "metadata": {},
      "source": [
        "<img src=\"{{site.baseur}}/images/plates.png\" alt=\"plates analogy\" width=\"256\" height=\"150\">"
      ]
    },
    {
      "cell_type": "markdown",
      "id": "64c4425e",
      "metadata": {},
      "source": [
        "## Characteristics:\n",
        "\n",
        "- Used for storing objects and arrays\n",
        "- Shared among all threads (requires synchronization)\n",
        "- Larger than stack memory\n",
        "- Slower allocation compared to stack \n",
        "- Objects live here until no references point to them"
      ]
    },
    {
      "cell_type": "code",
      "execution_count": null,
      "id": "5401f6ca",
      "metadata": {},
      "outputs": [],
      "source": [
        "public class HeapDemo {\n",
        "    public static void main(String[] args) {\n",
        "\n",
        "        // Explicit object creation\n",
        "        String message = new String(\"Hello\");  // Object created on heap, \n",
        "                                               // message is referenced in the stack\n",
        "\n",
        "        // Arrays stored on heap\n",
        "        int[] numbers = new int[5];            // Array object on heap\n",
        "                                               // numbers reference is on stack\n",
        "        \n",
        "        // Custom objects\n",
        "        Dog myDog = new Dog();                 // Dog object on heap\n",
        "                                               // myDog reference is on stack\n",
        "        \n",
        "        System.out.println(\"Message: \" + message);\n",
        "        System.out.println(\"Numbers array length: \" + numbers.length);\n",
        "    }\n",
        "}"
      ]
    },
    {
      "cell_type": "markdown",
      "id": "8b6df5df",
      "metadata": {},
      "source": [
        "### Heap Variables --> Tips\n",
        "\n",
        "- Heap variables stay alive as long as at least one stack variable points to them. \n",
        "\n",
        "- All reference data types refer to an address on the stack but change content on the heap.\n",
        "\n",
        "- Objects created in the heap are globally accessible and can be shared among multiple methods"
      ]
    },
    {
      "cell_type": "markdown",
      "id": "b244b5ac",
      "metadata": {},
      "source": [
        "# Popcorn Hack #1: Stack vs Heap\n",
        "Run the following code in your own notebook and observe:"
      ]
    },
    {
      "cell_type": "code",
      "execution_count": 2,
      "id": "59798803",
      "metadata": {},
      "outputs": [
        {
          "name": "stdout",
          "output_type": "stream",
          "text": [
            "Primitives (Stack):\n",
            "a = 10\n",
            "b = 20\n",
            "\n",
            "Arrays (Heap):\n",
            "array1[0] = 99\n",
            "array2[0] = 99\n"
          ]
        }
      ],
      "source": [
        "public class MemoryDemo {\n",
        "    public static void main(String[] args) {\n",
        "        // Stack variables\n",
        "        int a = 10;\n",
        "        int b = a;  // Copy of value\n",
        "        b = 20;     // Changing b doesn't affect a\n",
        "        \n",
        "        System.out.println(\"Primitives (Stack):\");\n",
        "        System.out.println(\"a = \" + a);  // Still 10\n",
        "        System.out.println(\"b = \" + b);  // Now it's 20\n",
        "        \n",
        "        // Heap variables\n",
        "        int[] array1 = {1, 2, 3};\n",
        "        int[] array2 = array1;  // Copy of reference (address)\n",
        "        array2[0] = 99;         // Changing array2 DOES affect array1\n",
        "        \n",
        "        System.out.println(\"\\nArrays (Heap):\");\n",
        "        System.out.println(\"array1[0] = \" + array1[0]);  // Now it's 99!\n",
        "        System.out.println(\"array2[0] = \" + array2[0]);  // Also 99\n",
        "    }\n",
        "}\n",
        "MemoryDemo.main(null);"
      ]
    },
    {
      "cell_type": "markdown",
      "id": "10f3e55a",
      "metadata": {},
      "source": [
        "## Tasks:\n",
        "**Answer in a few sentences in your notebook**\n",
        "\n",
        "1. Why does changing b not affect a, but changing array2 affects array1?\n",
        "\n",
        "2. Describe what's on the stack vs. the heap for this code."
      ]
    },
    {
      "cell_type": "markdown",
      "id": "034e7e4b",
      "metadata": {},
      "source": [
        "---"
      ]
    },
    {
      "cell_type": "markdown",
      "id": "52991337",
      "metadata": {},
      "source": [
        "# Pass-by-Value vs Pass-by-Reference\n",
        "This is critical for College Board CSA AP Exam!"
      ]
    },
    {
      "cell_type": "markdown",
      "id": "b82f4218",
      "metadata": {},
      "source": [
        "## Key Concepts:\n",
        "### Pass-by-Value (Primitives):\n",
        "\n",
        "When you pass a primitive to a method, Java copies the value\n",
        "Changes inside the method do NOT affect the original variable\n",
        "\n",
        "### Pass-by-Reference (Objects):\n",
        "\n",
        "When you pass an object to a method, Java copies the reference (address)\n",
        "Changes to the object's contents ARE reflected in the original object\n",
        "However, reassigning the reference itself doesn't affect the original reference"
      ]
    },
    {
      "cell_type": "markdown",
      "id": "e5f62f40",
      "metadata": {},
      "source": [
        "## Example: pass-by-value"
      ]
    },
    {
      "cell_type": "markdown",
      "id": "47005ecd",
      "metadata": {},
      "source": [
        "### Pass-by-Value (Copy of the toy)\n",
        "\n",
        "Imagine you have a toy car.\n",
        "You give a copy of it to your friend.\n",
        "If your friend paints the copy red, your original toy doesn’t change."
      ]
    },
    {
      "cell_type": "code",
      "execution_count": 3,
      "id": "8812325f",
      "metadata": {},
      "outputs": [
        {
          "name": "stdout",
          "output_type": "stream",
          "text": [
            "Before method: n = 5\n",
            "Inside method: n = 15\n",
            "After method: n = 5\n"
          ]
        }
      ],
      "source": [
        "public class IntByValue {\n",
        "\n",
        "    // Method tries to change the number\n",
        "    public static void changeInt(int n) {\n",
        "        n = n + 10; // only changes the copy\n",
        "        System.out.println(\"Inside method: n = \" + n);\n",
        "    }\n",
        "\n",
        "    public static void main(String[] args) {\n",
        "        int n = 5; // original number\n",
        "        System.out.println(\"Before method: n = \" + n);\n",
        "\n",
        "        changeInt(n); // pass copy of n\n",
        "        System.out.println(\"After method: n = \" + n); // still 5\n",
        "    }\n",
        "}\n",
        "\n",
        "// Run main manually\n",
        "IntByValue.main(null);"
      ]
    },
    {
      "cell_type": "markdown",
      "id": "13381ac4",
      "metadata": {},
      "source": [
        "## Example: pass-by-refrence"
      ]
    },
    {
      "cell_type": "markdown",
      "id": "2f5acc25",
      "metadata": {},
      "source": [
        "### Pass-by-Reference (Shared toy box)\n",
        "\n",
        "Now imagine a toy box with many toys inside.\n",
        "You give your friend the address of your toy box, not a copy.\n",
        "If your friend paints a toy inside the box, your toys also change, because it’s the same box."
      ]
    },
    {
      "cell_type": "code",
      "execution_count": 5,
      "id": "d316510d",
      "metadata": {},
      "outputs": [
        {
          "name": "stdout",
          "output_type": "stream",
          "text": [
            "Before: 5\n",
            "After: 15\n"
          ]
        }
      ],
      "source": [
        "// A simple class to hold a number\n",
        "class NumberHolder {\n",
        "    int value;\n",
        "\n",
        "    NumberHolder(int value) {\n",
        "        this.value = value;\n",
        "    }\n",
        "}\n",
        "\n",
        "public class PassByReferenceDemo {\n",
        "    // Method that changes the object's value\n",
        "    public static void changeValue(NumberHolder n) {\n",
        "        n.value = n.value + 10; // modify the object\n",
        "    }\n",
        "\n",
        "    public static void main(String[] args) {\n",
        "        NumberHolder myNumber = new NumberHolder(5); // create object\n",
        "        System.out.println(\"Before: \" + myNumber.value); // 5\n",
        "\n",
        "        changeValue(myNumber); // pass object reference\n",
        "        System.out.println(\"After: \" + myNumber.value); // 15\n",
        "    }\n",
        "}\n",
        "PassByReferenceDemo.main(null);"
      ]
    },
    {
      "cell_type": "markdown",
      "id": "d6dd1cf7",
      "metadata": {},
      "source": [
        "# Popcorn Hack #2: Understanding Pass-by-Reference\n",
        "Examine the code below and predict the output before running it:"
      ]
    },
    {
      "cell_type": "code",
      "execution_count": 6,
      "id": "5e56fb28",
      "metadata": {},
      "outputs": [
        {
          "name": "stdout",
          "output_type": "stream",
          "text": [
            "Before birthday: John is 20\n",
            "Inside method: John is now 21\n",
            "After birthday: John is 21\n",
            "\n",
            "Before reassign: John is 21\n",
            "Inside reassign: New Person is 99\n",
            "After reassign: John is 21\n"
          ]
        }
      ],
      "source": [
        "public class PersonDemo {\n",
        "    static class Person {\n",
        "        String name;\n",
        "        int age;\n",
        "        \n",
        "        Person(String name, int age) {\n",
        "            this.name = name;\n",
        "            this.age = age;\n",
        "        }\n",
        "    }\n",
        "    \n",
        "    public static void haveBirthday(Person p) {\n",
        "        p.age = p.age + 1;  // Modifying object content\n",
        "        System.out.println(\"Inside method: \" + p.name + \" is now \" + p.age);\n",
        "    }\n",
        "    \n",
        "    public static void reassignPerson(Person p) {\n",
        "        p = new Person(\"New Person\", 99);  // Reassigning reference\n",
        "        System.out.println(\"Inside reassign: \" + p.name + \" is \" + p.age);\n",
        "    }\n",
        "    \n",
        "    public static void main(String[] args) {\n",
        "        Person john = new Person(\"John\", 20);\n",
        "        \n",
        "        System.out.println(\"Before birthday: \" + john.name + \" is \" + john.age);\n",
        "        haveBirthday(john);\n",
        "        System.out.println(\"After birthday: \" + john.name + \" is \" + john.age);\n",
        "        \n",
        "        System.out.println(\"\\nBefore reassign: \" + john.name + \" is \" + john.age);\n",
        "        reassignPerson(john);\n",
        "        System.out.println(\"After reassign: \" + john.name + \" is \" + john.age);\n",
        "    }\n",
        "}\n",
        "PersonDemo.main(null);"
      ]
    },
    {
      "cell_type": "markdown",
      "id": "236867fa",
      "metadata": {},
      "source": [
        "## Questions:\n",
        "\n",
        "1. After haveBirthday(john) is called, what is John's age? Why?\n",
        "\n",
        "2. After reassignPerson(john) is called, what is John's name and age? Why?\n",
        "\n",
        "3. Explain the difference between modifying an object's contents vs. reassigning a reference."
      ]
    },
    {
      "cell_type": "markdown",
      "id": "650660e9",
      "metadata": {},
      "source": [
        "---"
      ]
    },
    {
      "cell_type": "markdown",
      "id": "a8c8d279",
      "metadata": {},
      "source": [
        "# Constructors and Object Creation\n",
        "Constructors are special methods that initialize objects when they're created. Understanding constructors is essential for proper object instantiation."
      ]
    },
    {
      "cell_type": "code",
      "execution_count": 7,
      "id": "2f8679ee",
      "metadata": {},
      "outputs": [
        {
          "name": "stdout",
          "output_type": "stream",
          "text": [
            "Name: Nora, Grade: 111, GPA: 5.0\n",
            "Name: Soni, Grade: 11, GPA: 1.0\n"
          ]
        }
      ],
      "source": [
        "// Basics:\n",
        "public class Student {\n",
        "    private String name;\n",
        "    private int grade;\n",
        "    private double gpa;\n",
        "    \n",
        "    // Default constructor\n",
        "    public Student() {\n",
        "        this.name = \"Nora\";\n",
        "        this.grade = 111;\n",
        "        this.gpa = 5.0;\n",
        "    }\n",
        "    \n",
        "    // Parameterized constructor\n",
        "    public Student(String name, int grade, double gpa) {\n",
        "        this.name = name;\n",
        "        this.grade = grade;\n",
        "        this.gpa = gpa;\n",
        "    }\n",
        "    \n",
        "    public void display() {\n",
        "        System.out.println(\"Name: \" + name + \", Grade: \" + grade + \", GPA: \" + gpa);\n",
        "    }\n",
        "    \n",
        "    public static void main(String[] args) {\n",
        "        Student s1 = new Student();\n",
        "        Student s2 = new Student(\"Soni\", 11, 1.0);\n",
        "        \n",
        "        s1.display();\n",
        "        s2.display();\n",
        "    }\n",
        "}\n",
        "\n",
        "Student.main(null);"
      ]
    },
    {
      "cell_type": "markdown",
      "id": "9195e39a",
      "metadata": {},
      "source": [
        "## Constructor Types:\n",
        "\n",
        "1. **Default Constructor**: No parameters, sets default values\n",
        "2. **Parameterized Constructor**: Takes parameters to initialize with specific values\n",
        "3. **Copy Constructor**: Creates a new object as a copy of an existing object"
      ]
    },
    {
      "cell_type": "markdown",
      "id": "edc6c02d",
      "metadata": {},
      "source": [
        "---"
      ]
    },
    {
      "cell_type": "markdown",
      "id": "bdd3d8f5",
      "metadata": {},
      "source": [
        "# Key Takeaways\n",
        "- Stack stores primitives and object references; Heap stores actual objects\n",
        "\n",
        "- Primitives are pass-by-value; Objects are pass-by-reference (reference is copied)\n",
        "\n",
        "- Understanding memory allocation helps debug issues and write efficient code\n",
        "\n",
        "- Constructors initialize objects when they're created\n",
        "\n",
        "- These concepts are frequently tested on the College Board AP CS A exam!"
      ]
    },
    {
      "cell_type": "markdown",
      "id": "037adf56",
      "metadata": {},
      "source": [
        "----"
      ]
    },
    {
      "cell_type": "markdown",
      "id": "e8fd9a01",
      "metadata": {},
      "source": [
        "# Homework"
      ]
    },
    {
      "cell_type": "markdown",
      "id": "cfddce37",
      "metadata": {},
      "source": [
        "### Once you've finished the lesson and ran/wrote all the popcorn hacks in a notebook please start the homework here\n",
        "\n",
        "<a href=\"{{ site.baseurl }}/csa/unit_01/1_13/homework\">Homework</a>\n",
        "\n",
        "[Submission Form](https://docs.google.com/forms/d/e/1FAIpQLSezbH1C3-8a_UfyLjJ7vW-ZSZNPtEYFg5FhjMka0VNCpwAcrQ/viewform?usp=header)"
      ]
    },
    {
      "cell_type": "markdown",
      "id": "9ef77446",
      "metadata": {},
      "source": [
        "---"
      ]
    },
    {
      "cell_type": "markdown",
      "id": "f5dbb5f8",
      "metadata": {},
      "source": [
        "# Resources\n",
        "\n",
        "[AP classroom](https://apstudents.collegeboard.org/courses/ap-computer-science-a)\n",
        "\n",
        "[1.13 lesson (PAGE 53-54)](https://apcentral.collegeboard.org/media/pdf/ap-computer-science-a-course-and-exam-description.pdf)"
      ]
    }
  ],
  "metadata": {
    "kernelspec": {
      "display_name": "java (IJava/j!)-tcp",
      "language": "java",
      "name": "jbang-ijava-tcp"
    },
    "language_info": {
      "codemirror_mode": "java",
      "file_extension": ".jshell",
      "mimetype": "text/x-java-source",
      "name": "java",
      "pygments_lexer": "java",
      "version": "17.0.8+7"
    }
  },
  "nbformat": 4,
  "nbformat_minor": 5
}
