{
 "cells": [
  {
   "cell_type": "raw",
   "id": "498ed049",
   "metadata": {
    "vscode": {
     "languageId": "raw"
    }
   },
   "source": [
    "---\n",
    "layout: post\n",
    "toc: true\n",
    "title: Calling Class Methods\n",
    "menu: nav/CSA_Nunits/csaunit1.html\n",
    "permalink: /csa/unit_01/1_10\n",
    "author: Trevor, Kush, Elliot, Aranya, Travis, Alex\n",
    "---"
   ]
  },
  {
   "cell_type": "markdown",
   "id": "e1e8d5e0",
   "metadata": {},
   "source": [
    "## What is a \"Class Method?\""
   ]
  },
  {
   "cell_type": "markdown",
   "id": "explanation_cell",
   "metadata": {},
   "source": [
    ">**A class method (or static method in Java) belongs to the class itself, not to any specific object.**\n",
    "\n",
    "*(You can call these methods directly using the class name, without needing to create an object first.)*\n",
    "\n",
    "Key characteristics of static methods:\n",
    "\n",
    "- They are declared with the `static` keyword.\n",
    "- They can be called using the syntax: `ClassName.methodName()`.\n",
    "- They cannot use instance variables or instance methods directly (because they don't carry the state of the object).\n",
    "- They are useful for utility functions or operations that are not tied to the state of a particular object."
   ]
  },
  {
   "cell_type": "markdown",
   "id": "example_title_cell",
   "metadata": {},
   "source": [
    "### Printer Example"
   ]
  },
  {
   "cell_type": "code",
   "execution_count": 1,
   "id": "code_example_cell",
   "metadata": {
    "vscode": {
     "languageId": "java"
    }
   },
   "outputs": [
    {
     "name": "stdout",
     "output_type": "stream",
     "text": [
      "Hello, World!\n"
     ]
    },
    {
     "ename": "CompilationException",
     "evalue": "",
     "output_type": "error",
     "traceback": [
      "\u001b[1m\u001b[30m|   \u001b[1m\u001b[30m\u001b[0m\u001b[1m\u001b[30m\u001b[41mPrinter.explode\u001b[0m\u001b[1m\u001b[30m(); // This will NOT work!\u001b[0m",
      "\u001b[1m\u001b[31mnon-static method explode() cannot be referenced from a static context\u001b[0m",
      ""
     ]
    }
   ],
   "source": [
    "class Printer {\n",
    "    // This IS a CLASS METHOD. It can be called WITHOUT creating an instance.\n",
    "    public static void print(String message) {\n",
    "        System.out.println(message);\n",
    "    }\n",
    "\n",
    "    // This is NOT a CLASS METHOD. You need an instance to call it.\n",
    "    public void explode() {\n",
    "        System.out.println(\"Boom\");\n",
    "    }\n",
    "}\n",
    "\n",
    "Printer.print(\"Hello, World!\"); // This will work!\n",
    "Printer.explode(); // This will NOT work!"
   ]
  },
  {
   "cell_type": "markdown",
   "id": "b22650c4",
   "metadata": {},
   "source": [
    "### Printer Example\n",
    "This example demonstrates that a **static (class) method** can be called without creating an object, while an **instance method** requires one.  \n",
    "`Printer.print()` works because it’s static, but `Printer.explode()` causes an error since it’s an instance method and needs an object of `Printer` to be called."
   ]
  },
  {
   "cell_type": "markdown",
   "id": "d56e6618",
   "metadata": {},
   "source": [
    "### Dude example"
   ]
  },
  {
   "cell_type": "code",
   "execution_count": null,
   "id": "bafc9591",
   "metadata": {
    "vscode": {
     "languageId": "java"
    }
   },
   "outputs": [],
   "source": [
    "class Dude {\n",
    "    String name;\n",
    "\n",
    "    public Dude(String name) {\n",
    "        this.name = name;\n",
    "    }\n",
    "\n",
    "    public static void SayName() {\n",
    "        System.out.println(\"My name is \" + name); // This will NOT work! cause name is an instance variable.\n",
    "    }\n",
    "}\n",
    "\n",
    "// This will not compile since sayAnotherName is a STATIC (CLASS) METHOD and cannot access the INSTANCE variable 'name'."
   ]
  },
  {
   "cell_type": "markdown",
   "id": "b2afb93c",
   "metadata": {},
   "source": [
    "### Dude Example\n",
    "This shows that **static methods cannot access instance variables**.  \n",
    "The method `SayName()` tries to use `name`, which belongs to an instance, not the class itself. To fix this, `SayName()` must be non-static or receive `name` as a parameter.\n"
   ]
  },
  {
   "cell_type": "markdown",
   "id": "1634a795",
   "metadata": {},
   "source": [
    "### Bro example"
   ]
  },
  {
   "cell_type": "code",
   "execution_count": null,
   "id": "56f7808d",
   "metadata": {
    "vscode": {
     "languageId": "java"
    }
   },
   "outputs": [],
   "source": [
    "class Bro {\n",
    "    String name;\n",
    "    static String classicBroSaying = \"Sup bro?\";\n",
    "\n",
    "    public Bro(String name) {\n",
    "        this.name = name;\n",
    "    }\n",
    "\n",
    "    public void sayMyName() {\n",
    "        System.out.println(\"My name is \" + name); // This will work!\n",
    "    }\n",
    "\n",
    "    public static void sayClassicBroSaying() {\n",
    "        System.out.println(classicBroSaying); // This will work too!\n",
    "    }\n",
    "}\n",
    "\n",
    "Bro kush = new Bro(\"kush\");\n",
    "kush.sayMyName(); // This will work!\n",
    "\n",
    "Bro.sayClassicBroSaying(); // This will work! because the classicBroSaying variable is STATIC.\n",
    "Bro.sayMyName(); // This will NOT work! because sayMyName is NOT a STATIC method."
   ]
  },
  {
   "cell_type": "markdown",
   "id": "75498ee1",
   "metadata": {},
   "source": [
    "### Bro Example\n",
    "This example contrasts how static and instance members behave together.  \n",
    "`classicBroSaying` is static, meaning it belongs to the class and can be used in a static method.  \n",
    "`name` is an instance variable, so only instance methods like `sayMyName()` can access it.  \n",
    "You call static methods with the class name, but instance methods with an object.\n"
   ]
  },
  {
   "cell_type": "markdown",
   "metadata": {},
   "source": [
    "## Popcorn Hack: Which is an instance method or static method\n",
    "\n",
    "### What to do\n",
    "You’ve learned that **static methods** belong to the *class* and **instance methods** belong to the *object*.\n",
    "\n",
    "Look at the code below and decide which lines will work — and which will cause an error.  \n",
    "Then fix the wrong ones."
   ]
  },
  {
   "cell_type": "code",
   "execution_count": 1,
   "metadata": {
    "vscode": {
     "languageId": "java"
    }
   },
   "outputs": [
    {
     "ename": "CompilationException",
     "evalue": "",
     "output_type": "error",
     "traceback": [
      "\u001b[1m\u001b[30m|   \u001b[1m\u001b[30m        \u001b[0m\u001b[1m\u001b[30m\u001b[41msayHi\u001b[0m\u001b[1m\u001b[30m();\u001b[0m",
      "\u001b[1m\u001b[31mnon-static method sayHi() cannot be referenced from a static context\u001b[0m",
      ""
     ]
    }
   ],
   "source": [
    "class Bro {\n",
    "    String name;\n",
    "    static String catchphrase = \"Sup bro?\";\n",
    "\n",
    "    public Bro(String name) {\n",
    "        this.name = name;\n",
    "    }\n",
    "\n",
    "    public void sayHi() {\n",
    "        System.out.println(\"Hey, I'm \" + name);\n",
    "    }\n",
    "\n",
    "    public static void sayCatchphrase() {\n",
    "        System.out.println(catchphrase);\n",
    "    }\n",
    "\n",
    "    public static void main(String[] args) {\n",
    "        // Will this work?\n",
    "        sayCatchphrase();\n",
    "\n",
    "        // What about this one?\n",
    "        sayHi();\n",
    "\n",
    "        Bro alex = new Bro(\"Alex\");\n",
    "        alex.sayHi();\n",
    "        alex.sayCatchphrase();\n",
    "    }\n",
    "}"
   ]
  },
  {
   "cell_type": "markdown",
   "id": "85d597df",
   "metadata": {},
   "source": [
    "### Chart for the Bro Example\n",
    "\n",
    "|                   | Static Variable      | Non-Static Variable   |\n",
    "|-------------------|-------------|---------------|\n",
    "| **In static (Class) method**   | ✅  | ❌ |\n",
    "| **In instance method** | ✅  | ✅   |"
   ]
  },
  {
   "cell_type": "markdown",
   "id": "6a646ea1",
   "metadata": {},
   "source": [
    "Real-Life Example: Bank Account\n"
   ]
  },
  {
   "cell_type": "code",
   "execution_count": 2,
   "id": "800b0628",
   "metadata": {
    "vscode": {
     "languageId": "java"
    }
   },
   "outputs": [],
   "source": [
    "class BankAccount {\n",
    "    String owner;\n",
    "    double balance;\n",
    "    static double interestRate = 0.05; // shared by all accounts\n",
    "\n",
    "    public BankAccount(String owner, double balance) {\n",
    "        this.owner = owner;\n",
    "        this.balance = balance;\n",
    "    }\n",
    "\n",
    "    // Instance method → affects a single account\n",
    "    public void deposit(double amount) {\n",
    "        balance += amount;\n",
    "        System.out.println(owner + \" deposited $\" + amount + \". New balance: $\" + balance);\n",
    "    }\n",
    "\n",
    "    // Instance method → shows this account’s balance\n",
    "    public void showBalance() {\n",
    "        System.out.println(owner + \"'s current balance: $\" + balance);\n",
    "    }\n",
    "\n",
    "    // Static method → shared across all accounts\n",
    "    public static void setInterestRate(double newRate) {\n",
    "        interestRate = newRate;\n",
    "        System.out.println(\"New interest rate set to \" + (interestRate * 100) + \"% for all accounts.\");\n",
    "    }\n",
    "\n",
    "    public static void main(String[] args) {\n",
    "        BankAccount alex = new BankAccount(\"Alex\", 500);\n",
    "        BankAccount brooke = new BankAccount(\"Brooke\", 1000);\n",
    "\n",
    "        alex.deposit(200);\n",
    "        brooke.deposit(300);\n",
    "\n",
    "        alex.showBalance();\n",
    "        brooke.showBalance();\n",
    "\n",
    "        BankAccount.setInterestRate(0.07); // static call through the class\n",
    "    }\n",
    "}"
   ]
  },
  {
   "cell_type": "markdown",
   "id": "c2fa0669",
   "metadata": {},
   "source": [
    "### Bank Account Example\n",
    "This example shows how static members represent shared data or behavior across all objects.  \n",
    "Each `BankAccount` object has its own `balance`, but all accounts share the same `interestRate`.  \n",
    "\n",
    "The `deposit()` and `showBalance()` methods are **instance methods** because they work on a single account’s data.  \n",
    "The `setInterestRate()` method is **static** because it changes a value shared by every account.  \n",
    "\n",
    "\n"
   ]
  }
 ],
 "metadata": {
  "kernelspec": {
   "display_name": "java (IJava/j!)-tcp",
   "language": "java",
   "name": "jbang-ijava-tcp"
  },
  "language_info": {
   "codemirror_mode": "java",
   "file_extension": ".jshell",
   "mimetype": "text/x-java-source",
   "name": "Java",
   "pygments_lexer": "java",
   "version": "17.0.8+7"
  }
 },
 "nbformat": 4,
 "nbformat_minor": 5
}
